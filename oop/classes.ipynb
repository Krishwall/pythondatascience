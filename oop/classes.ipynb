{
 "cells": [
  {
   "cell_type": "code",
   "execution_count": 2,
   "metadata": {},
   "outputs": [],
   "source": [
    "class Pen:\n",
    "    shape=None\n",
    "    color=None\n",
    "    material=None\n",
    "    type=None\n",
    "\n",
    "    def show(self):\n",
    "        print(\"This is a pen\")\n",
    "        "
   ]
  },
  {
   "cell_type": "code",
   "execution_count": 8,
   "metadata": {},
   "outputs": [
    {
     "name": "stdout",
     "output_type": "stream",
     "text": [
      "<__main__.Pen object at 0x0000028C7F26C770>\n",
      "<__main__.Pen object at 0x0000028C7F26CE30>\n",
      "This is a pen\n",
      "This is a pen\n",
      "cylinder blue plastic ballpoint\n"
     ]
    }
   ],
   "source": [
    "p1= Pen()  # create an object of Pen class\n",
    "print(p1)\n",
    "p2=Pen()\n",
    "print(p2)\n",
    "p1.show()\n",
    "p2.show()\n",
    "\n",
    "p1.shape=\"cylinder\"\n",
    "p2.shape=\"Hexagon\"\n",
    "p1.color=\"blue\"\n",
    "p2.color=\"red\"\n",
    "p1.material=\"plastic\"\n",
    "p2.material=\"metal\"\n",
    "p1.type=\"ballpoint\"\n",
    "p2.type='gelpen'\n",
    "print(p1.shape, p1.color, p1.material, p1.type)"
   ]
  },
  {
   "cell_type": "code",
   "execution_count": 26,
   "metadata": {},
   "outputs": [],
   "source": [
    "class Student:\n",
    "    def __init__(self,nm, course, college,gender='F') -> None:\n",
    "        self.name=nm\n",
    "        self.course= course\n",
    "        self.college= college\n",
    "        self.gender=gender\n",
    "        self.skills=[]\n",
    "    def show(self):\n",
    "        print(\"Student name\", self.name)\n",
    "    \n",
    "    def add_skill(self, new_skill):\n",
    "        self.skills.append(new_skill)\n",
    "\n",
    "        "
   ]
  },
  {
   "cell_type": "code",
   "execution_count": 28,
   "metadata": {},
   "outputs": [
    {
     "name": "stdout",
     "output_type": "stream",
     "text": [
      "<__main__.Student object at 0x0000028C7F237890>\n",
      "krish A Btech\n"
     ]
    }
   ],
   "source": [
    "s1=Student(\"krish\",\"Btech\",\"A\",\"M\")\n",
    "print(s1)\n",
    "print(s1.name,s1.college,s1.course)\n",
    "\n",
    "s1.add_skill(\" bh\")"
   ]
  },
  {
   "cell_type": "markdown",
   "metadata": {},
   "source": [
    "### dataclass\n",
    "- data class is a class that only contains data, no functions"
   ]
  },
  {
   "cell_type": "code",
   "execution_count": 17,
   "metadata": {},
   "outputs": [],
   "source": [
    "from dataclasses import dataclass\n"
   ]
  },
  {
   "cell_type": "code",
   "execution_count": 19,
   "metadata": {},
   "outputs": [],
   "source": [
    "@dataclass\n",
    "class Employee:\n",
    "    name: str\n",
    "    designation:str\n",
    "    salary: float"
   ]
  },
  {
   "cell_type": "code",
   "execution_count": 21,
   "metadata": {},
   "outputs": [
    {
     "name": "stdout",
     "output_type": "stream",
     "text": [
      "Employee(name='sam', designation='manager', salary=5000000)\n",
      "Employee(name='skim', designation='manager', salary=5000)\n",
      "sam\n"
     ]
    }
   ],
   "source": [
    "e1= Employee(\"sam\",\"manager\",5000000)\n",
    "e2= Employee(\"skim\",\"manager\",5000)\n",
    "print(e1)\n",
    "print(e2)\n",
    "print((e1.name))"
   ]
  },
  {
   "cell_type": "code",
   "execution_count": 22,
   "metadata": {},
   "outputs": [],
   "source": [
    "class Backbencher(Student):\n",
    "    pass"
   ]
  },
  {
   "cell_type": "code",
   "execution_count": 25,
   "metadata": {},
   "outputs": [
    {
     "name": "stdout",
     "output_type": "stream",
     "text": [
      "Student name merngieg\n"
     ]
    }
   ],
   "source": [
    "b1= Backbencher(\"merngieg\",'nwn','wfwe','m')\n",
    "b1.show()\n",
    "b1.add_skil(\"bib\")"
   ]
  },
  {
   "cell_type": "markdown",
   "metadata": {},
   "source": [
    "inheritance\n",
    "\n",
    "- `there are no access modifiers in python,everything is public`\n",
    "- constructor\n",
    "- method overloading\n"
   ]
  },
  {
   "cell_type": "code",
   "execution_count": 6,
   "metadata": {},
   "outputs": [],
   "source": [
    "# parent class\n",
    "class Shape():\n",
    "    def __init__(self,color,filled) -> None:\n",
    "        self.color=color\n",
    "        self.filled=filled\n",
    "\n",
    "    def show(self):\n",
    "        print(\"Color:\",self.color)\n",
    "        print(\"Filled\",self.filled)\n",
    "        "
   ]
  },
  {
   "cell_type": "code",
   "execution_count": 7,
   "metadata": {},
   "outputs": [],
   "source": [
    "# child class\n",
    "class Circle(Shape):\n",
    "    # constructor overiding\n",
    "    def __init__(self, radius, color, filled) -> None:\n",
    "        super().__init__(color, filled)  # super class constructor access\n",
    "        self.radius=radius\n",
    "\n",
    "    \n",
    "class Rectangle(Shape):\n",
    "    # connstructor overiding\n",
    "    def __init__(self,l,w, color, filled) -> None:\n",
    "        super().__init__(color, filled)\n",
    "        self.length=l\n",
    "        self.width=w\n",
    "\n",
    "    # method overiding\n",
    "    def show(self):\n",
    "        super().show()\n",
    "        print(\"Length:\", self.length)\n",
    "        print(\"Width\",self.width)\n",
    "\n",
    "\n",
    "    def area(self):\n",
    "        return self.length*self.width\n",
    "    \n",
    "class Triangle(Shape):\n",
    "    def __init__(self,base, height) -> None:\n",
    "        super().__init__(color='red', filled=True)\n",
    "        self.base=base\n",
    "        self.height=height\n",
    "    "
   ]
  },
  {
   "cell_type": "code",
   "execution_count": 8,
   "metadata": {},
   "outputs": [
    {
     "name": "stdout",
     "output_type": "stream",
     "text": [
      "Color: red\n",
      "Filled True\n",
      "Color: green\n",
      "Filled False\n",
      "Length: 10\n",
      "Width 5\n",
      "Rectangle area 50\n",
      "Color: red\n",
      "Filled True\n"
     ]
    }
   ],
   "source": [
    "circle=Circle(5,\"red\",True)\n",
    "circle.show()\n",
    "rect=Rectangle(10,5,\"green\",False)\n",
    "rect.show()\n",
    "print(\"Rectangle area\", rect.area())\n",
    "tri=Triangle(10,5)\n",
    "tri.show()"
   ]
  }
 ],
 "metadata": {
  "kernelspec": {
   "display_name": "base",
   "language": "python",
   "name": "python3"
  },
  "language_info": {
   "codemirror_mode": {
    "name": "ipython",
    "version": 3
   },
   "file_extension": ".py",
   "mimetype": "text/x-python",
   "name": "python",
   "nbconvert_exporter": "python",
   "pygments_lexer": "ipython3",
   "version": "3.12.3"
  }
 },
 "nbformat": 4,
 "nbformat_minor": 2
}
