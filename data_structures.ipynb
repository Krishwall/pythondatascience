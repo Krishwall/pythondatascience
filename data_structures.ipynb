{
 "cells": [
  {
   "cell_type": "code",
   "execution_count": null,
   "metadata": {},
   "outputs": [],
   "source": []
  },
  {
   "cell_type": "markdown",
   "metadata": {},
   "source": [
    " list                                 tuple                  set                    dictionary\n",
    "\n",
    "indexed             indexed                 unindexed                indexed \n",
    "\n",
    "ordered             ordered                 unordered                ordered\n",
    "\n",
    "mutable            immutable                  mutable                mutable\n",
    "\n",
    "hetrogeneous       hetrogeneous            hetrogeneous            hetrogeneous\n",
    "\n",
    "have duplicates    have duplicates        no duplicates           have duplicates\n",
    "\n",
    "just values        just values           just values              key value pair\n",
    "\n",
    "[]                   ()                       {}                       {}\n",
    "\n",
    "list()              tuple()                 set()                     dict()            \n",
    "        "
   ]
  },
  {
   "cell_type": "markdown",
   "metadata": {},
   "source": [
    "## list methods(11)\n",
    "- adding/updating\n",
    "    - `append`\n",
    "    - `extend`\n",
    "    - `insert`\n",
    "- removing/deleting\n",
    "    - `remove()`\n",
    "    - `pop()`\n",
    "    - `clear()`\n",
    "- utility\n",
    "    - `sort()`\n",
    "    - `reverse()`\n",
    "    - `index()`\n",
    "    - `count()`\n",
    "    - `copy()`"
   ]
  },
  {
   "cell_type": "code",
   "execution_count": 1,
   "metadata": {},
   "outputs": [],
   "source": [
    "numbers=[12,3,4,64,64,75,57,7,57,757]\n",
    "a=numbers[::-1]"
   ]
  },
  {
   "cell_type": "code",
   "execution_count": 2,
   "metadata": {},
   "outputs": [],
   "source": [
    "numbers.reverse()\n"
   ]
  },
  {
   "cell_type": "code",
   "execution_count": 3,
   "metadata": {},
   "outputs": [
    {
     "name": "stdout",
     "output_type": "stream",
     "text": [
      "[757, 57, 7, 57, 75, 64, 64, 4, 3, 12]\n"
     ]
    }
   ],
   "source": [
    "print(numbers)"
   ]
  },
  {
   "cell_type": "code",
   "execution_count": 9,
   "metadata": {},
   "outputs": [
    {
     "name": "stdout",
     "output_type": "stream",
     "text": [
      "[3, 4, 7, 12, 57, 57, 64, 64, 75, 757]\n"
     ]
    },
    {
     "data": {
      "text/plain": [
       "[757, 75, 64, 64, 57, 57, 12, 7, 4, 3]"
      ]
     },
     "execution_count": 9,
     "metadata": {},
     "output_type": "execute_result"
    }
   ],
   "source": [
    "numbers.sort()\n",
    "print(numbers)\n",
    "(numbers.sort(reverse=True))\n",
    "numbers"
   ]
  },
  {
   "cell_type": "code",
   "execution_count": 11,
   "metadata": {},
   "outputs": [
    {
     "name": "stdout",
     "output_type": "stream",
     "text": [
      "[[1, 12], [2, 5], [4, 15], [5, 10]]\n"
     ]
    }
   ],
   "source": [
    "x=[[1,12],[2,5],[5,10],[4,15]]\n",
    "x.sort()\n",
    "print(x)"
   ]
  },
  {
   "cell_type": "code",
   "execution_count": 16,
   "metadata": {},
   "outputs": [
    {
     "name": "stdout",
     "output_type": "stream",
     "text": [
      "[[2, 5], [5, 10], [1, 12], [4, 15]]\n"
     ]
    }
   ],
   "source": [
    "x.sort(key=lambda e: e[1])#  key is a function\n",
    "print(x)"
   ]
  },
  {
   "cell_type": "code",
   "execution_count": 18,
   "metadata": {},
   "outputs": [
    {
     "name": "stdout",
     "output_type": "stream",
     "text": [
      "[[2, 5], [1, 12], [5, 10], [4, 15]]\n"
     ]
    }
   ],
   "source": [
    "x.sort(key=lambda i: sum(i))#  key is a function\n",
    "print(x)"
   ]
  },
  {
   "cell_type": "code",
   "execution_count": 20,
   "metadata": {},
   "outputs": [
    {
     "name": "stdout",
     "output_type": "stream",
     "text": [
      "[('bob', 19), ('alice', 25), ('alex', 35)]\n"
     ]
    }
   ],
   "source": [
    "users=[('alice',25),('bob',19),('alex',35)]\n",
    "users.sort(key= lambda x:x[1])\n",
    "print(users)"
   ]
  },
  {
   "cell_type": "code",
   "execution_count": 24,
   "metadata": {},
   "outputs": [
    {
     "name": "stdout",
     "output_type": "stream",
     "text": [
      "[['laptop', 60000, 1], ['monile', 25000, 2], ['headphones', 1500, 2], ['watch', 3000, 3]]\n"
     ]
    }
   ],
   "source": [
    "cart=[\n",
    "    ['monile',25000,2],\n",
    "   [ 'laptop',60000,1],\n",
    "    ['watch',3000,3],\n",
    "    ['headphones',1500,2]\n",
    "    ]\n",
    "cart.sort(key= lambda x:x[2])\n",
    "cart.sort(key= lambda x:x[2]*x[1])\n",
    "print(cart)"
   ]
  },
  {
   "cell_type": "code",
   "execution_count": 27,
   "metadata": {},
   "outputs": [
    {
     "name": "stdout",
     "output_type": "stream",
     "text": [
      "3\n",
      "4 occurs 2\n"
     ]
    }
   ],
   "source": [
    "a=[1,2,3,4,3,1,313,1,4,2]\n",
    "print(a.count(1))\n",
    "print(\"4 occurs\",a.count(4))"
   ]
  },
  {
   "cell_type": "code",
   "execution_count": 28,
   "metadata": {},
   "outputs": [
    {
     "data": {
      "text/plain": [
       "4"
      ]
     },
     "execution_count": 28,
     "metadata": {},
     "output_type": "execute_result"
    }
   ],
   "source": [
    "numbers.index(57)"
   ]
  },
  {
   "cell_type": "code",
   "execution_count": 35,
   "metadata": {},
   "outputs": [
    {
     "name": "stdout",
     "output_type": "stream",
     "text": [
      "[1, 2, 3, 4, 5]\n",
      "[1, 2, 3, 4, 5]\n",
      "[1, 2, 3, 4, 5]\n",
      "0x2266b2cff00\n",
      "0x2266b364e00\n",
      "0x2266b2cff00\n"
     ]
    }
   ],
   "source": [
    "# is = identity opertator\n",
    "a=[1,2,3,4,5]\n",
    "b=a.copy()  \n",
    "c=a\n",
    "print(a)\n",
    "print(b)\n",
    "print(c)\n",
    "print (hex(id(a)))\n",
    "print (hex(id(b)))\n",
    "print (hex(id(c)))\n"
   ]
  },
  {
   "cell_type": "markdown",
   "metadata": {},
   "source": [
    "# tuples\n",
    "- creating\n",
    "- indexing and slicing\n",
    "- methods\n",
    "- packing and unpacking"
   ]
  },
  {
   "cell_type": "code",
   "execution_count": 6,
   "metadata": {},
   "outputs": [
    {
     "name": "stdout",
     "output_type": "stream",
     "text": [
      "() (1,) (1, 2, 3, 4, 5)\n",
      "((1, 2), (3, 4), (5, 6))\n",
      "('a', 1, 'b', 2, 'c')\n",
      "(1,)\n",
      "('g', 'r', 'u', 'n', 't', ' ', 'f', 'a', 'c', 'e')\n",
      "(0, 1, 2, 3, 4, 5, 6, 7, 8, 9)\n"
     ]
    }
   ],
   "source": [
    "x=()\n",
    "y=(1,)\n",
    "z=(1,2,3,4,5)\n",
    "print(x,y,z)\n",
    "a=((1,2),(3,4),(5,6))\n",
    "b=('a',1,'b',2,'c')\n",
    "print(a)\n",
    "print(b)\n",
    "c=(1,)\n",
    "print(c)\n",
    "d=tuple('grunt face')\n",
    "print(d)\n",
    "e=tuple(range(10))\n",
    "print(e)\n",
    "\n"
   ]
  },
  {
   "cell_type": "code",
   "execution_count": 7,
   "metadata": {},
   "outputs": [
    {
     "data": {
      "text/plain": [
       "(4, 3, 2, 1, 0)"
      ]
     },
     "execution_count": 7,
     "metadata": {},
     "output_type": "execute_result"
    }
   ],
   "source": [
    "e[4::-1] \n"
   ]
  },
  {
   "cell_type": "code",
   "execution_count": 11,
   "metadata": {},
   "outputs": [
    {
     "name": "stdout",
     "output_type": "stream",
     "text": [
      "0\n",
      "3\n",
      "1\n",
      "2\n",
      "0\n"
     ]
    }
   ],
   "source": [
    "# index(search) and count methods\n",
    "fruits=('apple','banana','cherry','apple','cherry')\n",
    "print(fruits.index('apple'))\n",
    "print(fruits.index('apple',1))\n",
    "print(fruits.count('banana'))\n",
    "print(fruits.count('cherry'))\n",
    "print(fruits.count('mango'))"
   ]
  },
  {
   "cell_type": "code",
   "execution_count": 12,
   "metadata": {},
   "outputs": [
    {
     "name": "stdout",
     "output_type": "stream",
     "text": [
      "(1, 2, 3)\n"
     ]
    }
   ],
   "source": [
    "x=1,2,3# tupple packing\n",
    "print(x)"
   ]
  },
  {
   "cell_type": "code",
   "execution_count": 22,
   "metadata": {},
   "outputs": [],
   "source": [
    "def stats(*data):\n",
    "    total=sum(data)\n",
    "    avg=total/len(data)\n",
    "    \n",
    "    return total,round(avg,3)\n"
   ]
  },
  {
   "cell_type": "code",
   "execution_count": 23,
   "metadata": {},
   "outputs": [
    {
     "name": "stdout",
     "output_type": "stream",
     "text": [
      "(813, 135.5)\n"
     ]
    }
   ],
   "source": [
    "s=stats(12,35,35,642,86,3)\n",
    "print(s)"
   ]
  },
  {
   "cell_type": "code",
   "execution_count": null,
   "metadata": {},
   "outputs": [],
   "source": [
    "a,b=12,45 #tupple unpacking\n",
    "print(a,b)"
   ]
  },
  {
   "cell_type": "code",
   "execution_count": 24,
   "metadata": {},
   "outputs": [],
   "source": [
    "#a,b,c=12,45 # error\n",
    "#a,b=12,45,34"
   ]
  },
  {
   "cell_type": "code",
   "execution_count": 26,
   "metadata": {},
   "outputs": [
    {
     "name": "stdout",
     "output_type": "stream",
     "text": [
      "1\n",
      "2\n",
      "[3, 4, 5, 5, 5, 5]\n"
     ]
    }
   ],
   "source": [
    "a,b,*c=(1,2,3,4,5,5,5,5)\n",
    "print(a)\n",
    "print(b)\n",
    "print(c)\n"
   ]
  },
  {
   "cell_type": "code",
   "execution_count": 27,
   "metadata": {},
   "outputs": [
    {
     "name": "stdout",
     "output_type": "stream",
     "text": [
      "1\n",
      "[2, 3, 4, 5, 5, 5]\n",
      "5\n"
     ]
    }
   ],
   "source": [
    "a,*b,c=(1,2,3,4,5,5,5,5)\n",
    "print(a)\n",
    "print(b)\n",
    "print(c)"
   ]
  },
  {
   "cell_type": "code",
   "execution_count": 28,
   "metadata": {},
   "outputs": [
    {
     "ename": "SyntaxError",
     "evalue": "multiple starred expressions in assignment (308430269.py, line 1)",
     "output_type": "error",
     "traceback": [
      "\u001b[1;36m  Cell \u001b[1;32mIn[28], line 1\u001b[1;36m\u001b[0m\n\u001b[1;33m    *a,*b,*c=(1,2,3,4,5,5,5,5)\u001b[0m\n\u001b[1;37m    ^\u001b[0m\n\u001b[1;31mSyntaxError\u001b[0m\u001b[1;31m:\u001b[0m multiple starred expressions in assignment\n"
     ]
    }
   ],
   "source": [
    "*a,*b,*c=(1,2,3,4,5,5,5,5)\n",
    "print(a)\n",
    "print(b)\n",
    "print(c)"
   ]
  },
  {
   "cell_type": "code",
   "execution_count": 31,
   "metadata": {},
   "outputs": [
    {
     "name": "stdout",
     "output_type": "stream",
     "text": [
      "1\n",
      "[]\n",
      "2\n"
     ]
    }
   ],
   "source": [
    "a,*b,c=(1,2)\n",
    "print(a)\n",
    "print(b)\n",
    "print(c)"
   ]
  },
  {
   "cell_type": "code",
   "execution_count": 34,
   "metadata": {},
   "outputs": [
    {
     "name": "stdout",
     "output_type": "stream",
     "text": [
      "{1, 2, 3, 4}\n"
     ]
    }
   ],
   "source": [
    "x={} # dictionary\n",
    "x=set()\n",
    "y={1,23,342,24} # set with multiple elements\n",
    "z={1,2,2,3,3,4,4,4}\n",
    "print(z)"
   ]
  },
  {
   "cell_type": "code",
   "execution_count": 46,
   "metadata": {},
   "outputs": [
    {
     "name": "stdout",
     "output_type": "stream",
     "text": [
      "{'h', 'e', 'o', 'l'}\n"
     ]
    }
   ],
   "source": [
    "a=set('hello')\n",
    "print(a)\n"
   ]
  },
  {
   "cell_type": "code",
   "execution_count": 49,
   "metadata": {},
   "outputs": [
    {
     "name": "stdout",
     "output_type": "stream",
     "text": [
      "{55424, 2, 425, 242, 21, 23, 24}\n",
      "0 1 2 3 4 5 6 7 8 9 {0, 1, 2, 3, 4, 5, 6, 7, 8, 9}\n"
     ]
    }
   ],
   "source": [
    "b=set([23,24,2,425,55424,242,21,])\n",
    "print(b)\n",
    "c=set(range(10))\n",
    "for i in c:\n",
    "    print(i,end=' ')\n",
    "print(c)"
   ]
  },
  {
   "cell_type": "code",
   "execution_count": 50,
   "metadata": {},
   "outputs": [],
   "source": [
    "data=set()\n",
    "data.add(5)"
   ]
  },
  {
   "cell_type": "code",
   "execution_count": 51,
   "metadata": {},
   "outputs": [
    {
     "name": "stdout",
     "output_type": "stream",
     "text": [
      "{24, 442, 2, 5}\n"
     ]
    }
   ],
   "source": [
    "data.update([24,24,2,24,2,442])\n",
    "print(data)"
   ]
  },
  {
   "cell_type": "code",
   "execution_count": 52,
   "metadata": {},
   "outputs": [
    {
     "name": "stdout",
     "output_type": "stream",
     "text": [
      "{442, 2, 5}\n"
     ]
    }
   ],
   "source": [
    "data.discard(23)\n",
    "data.remove(24) #remove element (error if not present)\n",
    "print(data)"
   ]
  },
  {
   "cell_type": "code",
   "execution_count": 67,
   "metadata": {},
   "outputs": [
    {
     "ename": "KeyError",
     "evalue": "'pop from an empty set'",
     "output_type": "error",
     "traceback": [
      "\u001b[1;31m---------------------------------------------------------------------------\u001b[0m",
      "\u001b[1;31mKeyError\u001b[0m                                  Traceback (most recent call last)",
      "Cell \u001b[1;32mIn[67], line 1\u001b[0m\n\u001b[1;32m----> 1\u001b[0m data\u001b[38;5;241m.\u001b[39mpop()\n\u001b[0;32m      2\u001b[0m \u001b[38;5;28mprint\u001b[39m(data)\n\u001b[0;32m      3\u001b[0m data\u001b[38;5;241m.\u001b[39mclear()\n",
      "\u001b[1;31mKeyError\u001b[0m: 'pop from an empty set'"
     ]
    }
   ],
   "source": [
    "data.pop()\n",
    "print(data)\n",
    "data.clear()\n",
    "print(data)"
   ]
  },
  {
   "cell_type": "code",
   "execution_count": 70,
   "metadata": {},
   "outputs": [
    {
     "name": "stdout",
     "output_type": "stream",
     "text": [
      "{1, 2, 3, 4, 5, 6, 7, 8}\n",
      "{1, 2, 3, 4, 5, 6, 7, 8}\n"
     ]
    }
   ],
   "source": [
    "# Operation\n",
    "a={1,2,3,4,5}\n",
    "b={4,5,6,7,8}\n",
    "c={11,12,13}\n",
    "print(a.union(b))\n",
    "print(a | b)  # | is union operator"
   ]
  },
  {
   "cell_type": "code",
   "execution_count": 71,
   "metadata": {},
   "outputs": [
    {
     "name": "stdout",
     "output_type": "stream",
     "text": [
      "{4, 5}\n",
      "{4, 5}\n"
     ]
    }
   ],
   "source": [
    "print(a.intersection(b))\n",
    "print(a&b ) # & is intersection operator\n"
   ]
  },
  {
   "cell_type": "code",
   "execution_count": 68,
   "metadata": {},
   "outputs": [
    {
     "name": "stdout",
     "output_type": "stream",
     "text": [
      "{'h', 'e', 'o', 'l'}\n",
      "{'h', 'e', 'o', 'l'}\n",
      "{55424, 2, 425, 242, 21, 23, 24}\n"
     ]
    }
   ],
   "source": [
    "print(a.difference(b))\n",
    "print(a-b)\n",
    "print(b-a)\n"
   ]
  },
  {
   "cell_type": "code",
   "execution_count": null,
   "metadata": {},
   "outputs": [],
   "source": [
    "print(a.symmetric_difference(b))\n",
    "print(a^b) # ^ is symmetric difference operator"
   ]
  },
  {
   "cell_type": "code",
   "execution_count": 73,
   "metadata": {},
   "outputs": [
    {
     "name": "stdout",
     "output_type": "stream",
     "text": [
      "False\n",
      "False\n",
      "True\n"
     ]
    }
   ],
   "source": [
    "d={1,2,3}\n",
    "print(a.issuperset(b))\n",
    "print(a.issuperset(c))\n",
    "print(a.issuperset(d))\n"
   ]
  },
  {
   "cell_type": "code",
   "execution_count": 74,
   "metadata": {},
   "outputs": [
    {
     "name": "stdout",
     "output_type": "stream",
     "text": [
      "True\n",
      "False\n",
      "False\n"
     ]
    }
   ],
   "source": [
    "print(d.issubset(a))\n",
    "print(d.issubset(b))\n",
    "print(d.issubset(c))"
   ]
  },
  {
   "cell_type": "code",
   "execution_count": 75,
   "metadata": {},
   "outputs": [
    {
     "name": "stdout",
     "output_type": "stream",
     "text": [
      "False\n",
      "True\n",
      "False\n"
     ]
    }
   ],
   "source": [
    "print(a.isdisjoint(b))\n",
    "print(a.isdisjoint(c))\n",
    "print(a.isdisjoint(d))"
   ]
  },
  {
   "cell_type": "markdown",
   "metadata": {},
   "source": [
    "# conversion\n",
    "\n"
   ]
  },
  {
   "cell_type": "code",
   "execution_count": 76,
   "metadata": {},
   "outputs": [
    {
     "name": "stdout",
     "output_type": "stream",
     "text": [
      "[1, 2, 3, 4, 5]\n",
      "{1, 2, 3, 4, 5}\n",
      "(1, 2, 3, 4, 5)\n"
     ]
    }
   ],
   "source": [
    "a=[1,2,3,4,5]\n",
    "a_set=set(a)\n",
    "a_tuple=tuple(a)\n",
    "print(a)\n",
    "print(a_set)\n",
    "print(a_tuple)"
   ]
  },
  {
   "cell_type": "code",
   "execution_count": 77,
   "metadata": {},
   "outputs": [
    {
     "name": "stdout",
     "output_type": "stream",
     "text": [
      "[1, 2, 3, 4, 5]\n"
     ]
    }
   ],
   "source": [
    "x=[1,2,2,3,3,3,3,4,4,4,5,5,5,5,5,]\n",
    "x=list(set(x))\n",
    "print(x)"
   ]
  },
  {
   "cell_type": "markdown",
   "metadata": {},
   "source": [
    "# dictionarty\n",
    "- creation\n",
    "- traversal\n",
    "- method\n",
    "- sorting\n",
    "- comprehension\n",
    "\n",
    "syntax\n",
    "{\n",
    "     key:value,\n",
    "     key:value,\n",
    "     key:value,\n",
    "\n",
    "}"
   ]
  },
  {
   "cell_type": "code",
   "execution_count": 3,
   "metadata": {},
   "outputs": [
    {
     "name": "stdout",
     "output_type": "stream",
     "text": [
      "{'apple': 'red', 'banana': 'yellow', 'cherry': 'red', 'orange': 'orange'}\n"
     ]
    }
   ],
   "source": [
    "fruits={\n",
    "    'apple': 'red',\n",
    "    'banana':'yellow',\n",
    "    'cherry':'red',\n",
    "    'orange': 'orange'\n",
    "}\n",
    "print(fruits)"
   ]
  },
  {
   "cell_type": "code",
   "execution_count": 4,
   "metadata": {},
   "outputs": [
    {
     "name": "stdout",
     "output_type": "stream",
     "text": [
      "{'lucknow': [25, 30, 35], 'delhi': [30, 35, 40], 'chennai': [24, 23, 22]}\n"
     ]
    }
   ],
   "source": [
    "temp={\n",
    "    'lucknow':[25,30,35],\n",
    "    'delhi' :[30,35,40],\n",
    "    'chennai' :[24,23,22]\n",
    "}\n",
    "print(temp)"
   ]
  },
  {
   "cell_type": "code",
   "execution_count": 5,
   "metadata": {},
   "outputs": [
    {
     "data": {
      "text/plain": [
       "{'name': 'raju', 'age': 25, 'marks': [56, 73, 67]}"
      ]
     },
     "execution_count": 5,
     "metadata": {},
     "output_type": "execute_result"
    }
   ],
   "source": [
    "dict(name='raju',age=25,marks=[56,73,67])\n"
   ]
  },
  {
   "cell_type": "code",
   "execution_count": 7,
   "metadata": {},
   "outputs": [
    {
     "name": "stdout",
     "output_type": "stream",
     "text": [
      "{'Alex': {'english': 85, 'maths': 50}, 'Rahul': {'english': 80, 'maths': 85}}\n"
     ]
    }
   ],
   "source": [
    "report={\n",
    "    'Alex':{\n",
    "        'english':85,\n",
    "        'maths':50\n",
    "    },\n",
    "    'Rahul':{\n",
    "        'english':80,\n",
    "        'maths':85\n",
    "    }\n",
    "      }\n",
    "print(report)"
   ]
  },
  {
   "cell_type": "code",
   "execution_count": 9,
   "metadata": {},
   "outputs": [],
   "source": [
    "from pprint import pp # pretty print\n"
   ]
  },
  {
   "cell_type": "code",
   "execution_count": 10,
   "metadata": {},
   "outputs": [
    {
     "name": "stdout",
     "output_type": "stream",
     "text": [
      "{'Alex': {'english': 85, 'maths': 50}, 'Rahul': {'english': 80, 'maths': 85}}\n"
     ]
    }
   ],
   "source": [
    "pp(report)"
   ]
  },
  {
   "cell_type": "code",
   "execution_count": 11,
   "metadata": {},
   "outputs": [
    {
     "data": {
      "text/plain": [
       "'yellow'"
      ]
     },
     "execution_count": 11,
     "metadata": {},
     "output_type": "execute_result"
    }
   ],
   "source": [
    "fruits['banana']\n"
   ]
  },
  {
   "cell_type": "code",
   "execution_count": 12,
   "metadata": {},
   "outputs": [
    {
     "data": {
      "text/plain": [
       "[25, 30, 35]"
      ]
     },
     "execution_count": 12,
     "metadata": {},
     "output_type": "execute_result"
    }
   ],
   "source": [
    "temp['lucknow']"
   ]
  },
  {
   "cell_type": "code",
   "execution_count": 13,
   "metadata": {},
   "outputs": [
    {
     "data": {
      "text/plain": [
       "50"
      ]
     },
     "execution_count": 13,
     "metadata": {},
     "output_type": "execute_result"
    }
   ],
   "source": [
    "report['Alex']['maths']"
   ]
  },
  {
   "cell_type": "code",
   "execution_count": 15,
   "metadata": {},
   "outputs": [
    {
     "name": "stdout",
     "output_type": "stream",
     "text": [
      "avg temp of delhi 35.0\n"
     ]
    }
   ],
   "source": [
    "print('avg temp of delhi',sum(temp['delhi'])/len(temp['delhi']))"
   ]
  },
  {
   "cell_type": "code",
   "execution_count": 17,
   "metadata": {},
   "outputs": [
    {
     "name": "stdout",
     "output_type": "stream",
     "text": [
      "dict_keys(['apple', 'banana', 'cherry', 'orange'])\n",
      "dict_keys(['lucknow', 'delhi', 'chennai'])\n"
     ]
    }
   ],
   "source": [
    "# all keys of dictionary\n",
    "print(fruits.keys())\n",
    "print(temp.keys())"
   ]
  },
  {
   "cell_type": "code",
   "execution_count": 21,
   "metadata": {},
   "outputs": [
    {
     "data": {
      "text/plain": [
       "['red', 'yellow', 'red', 'orange']"
      ]
     },
     "execution_count": 21,
     "metadata": {},
     "output_type": "execute_result"
    }
   ],
   "source": [
    "feruit_names=list(fruits.values())\n",
    "feruit_names"
   ]
  },
  {
   "cell_type": "code",
   "execution_count": 19,
   "metadata": {},
   "outputs": [
    {
     "name": "stdout",
     "output_type": "stream",
     "text": [
      "dict_values(['red', 'yellow', 'red', 'orange'])\n",
      "dict_values([{'english': 85, 'maths': 50}, {'english': 80, 'maths': 85}])\n"
     ]
    }
   ],
   "source": [
    "print(fruits.values())\n",
    "print(report.values())"
   ]
  },
  {
   "cell_type": "code",
   "execution_count": 22,
   "metadata": {},
   "outputs": [
    {
     "name": "stdout",
     "output_type": "stream",
     "text": [
      "apple\n",
      "banana\n",
      "cherry\n",
      "orange\n"
     ]
    }
   ],
   "source": [
    "# traverse through keys\n",
    "for item in fruits:\n",
    "    print(item)"
   ]
  },
  {
   "cell_type": "code",
   "execution_count": 23,
   "metadata": {},
   "outputs": [
    {
     "name": "stdout",
     "output_type": "stream",
     "text": [
      "red\n",
      "yellow\n",
      "red\n",
      "orange\n"
     ]
    }
   ],
   "source": [
    "for key in fruits:\n",
    "    print(fruits[key])"
   ]
  },
  {
   "cell_type": "code",
   "execution_count": 25,
   "metadata": {},
   "outputs": [
    {
     "name": "stdout",
     "output_type": "stream",
     "text": [
      "apple red\n",
      "banana yellow\n",
      "cherry red\n",
      "orange orange\n"
     ]
    }
   ],
   "source": [
    "for key,values in fruits.items():\n",
    "    print(key,values)"
   ]
  },
  {
   "cell_type": "code",
   "execution_count": 26,
   "metadata": {},
   "outputs": [
    {
     "name": "stdout",
     "output_type": "stream",
     "text": [
      "red\n",
      "yellow\n",
      "red\n",
      "orange\n"
     ]
    }
   ],
   "source": [
    "# traverse only values\n",
    "for v in fruits.values():\n",
    "    print(v)"
   ]
  },
  {
   "cell_type": "code",
   "execution_count": 29,
   "metadata": {},
   "outputs": [
    {
     "name": "stdout",
     "output_type": "stream",
     "text": [
      "Alex\n",
      "--> english 85\n",
      "--> maths 50\n",
      "--> Total Marks 135\n",
      "Rahul\n",
      "--> english 80\n",
      "--> maths 85\n",
      "--> Total Marks 165\n"
     ]
    }
   ],
   "source": [
    "# total marks of all students\n",
    "for student,marks in report.items():\n",
    "    print(student)\n",
    "    for subject,mark in marks.items():\n",
    "        print(\"-->\",subject,mark)\n",
    "    print(\"--> Total Marks\",sum(marks.values()))"
   ]
  },
  {
   "cell_type": "code",
   "execution_count": 31,
   "metadata": {},
   "outputs": [
    {
     "name": "stdout",
     "output_type": "stream",
     "text": [
      "{'apple': 'yellow', 'banana': 'orange', 'cherry': 'red', 'orange': 'orange'}\n"
     ]
    }
   ],
   "source": [
    "fruits['apple']='yellow'\n",
    "fruits['banana']='orange'\n",
    "pp(fruits)"
   ]
  },
  {
   "cell_type": "code",
   "execution_count": 32,
   "metadata": {},
   "outputs": [
    {
     "name": "stdout",
     "output_type": "stream",
     "text": [
      "{'apple': 'yellow',\n",
      " 'banana': 'orange',\n",
      " 'cherry': 'red',\n",
      " 'orange': 'orange',\n",
      " 'Date': 'Brown',\n",
      " 'Almond': 'bROWN',\n",
      " 'Cashew': 'White'}\n"
     ]
    }
   ],
   "source": [
    "# adding small dictionary to a big dictionary\n",
    "dry_fruits={'Date':'Brown','Almond':'bROWN','Cashew':'White'}\n",
    "fruits.update(dry_fruits)\n",
    "pp(fruits)"
   ]
  },
  {
   "cell_type": "code",
   "execution_count": 36,
   "metadata": {},
   "outputs": [
    {
     "name": "stdout",
     "output_type": "stream",
     "text": [
      "no value found\n",
      "None\n",
      "Brown\n",
      "orange\n"
     ]
    }
   ],
   "source": [
    "# fruits('Raisin')\n",
    "# get method \n",
    "print(fruits.get('raisin','no value found')) # , default value\n",
    "print(fruits.get('date'))\n",
    "print(fruits.get('Date'))\n",
    "print(fruits.get('banana'))\n"
   ]
  },
  {
   "cell_type": "code",
   "execution_count": 37,
   "metadata": {},
   "outputs": [
    {
     "data": {
      "text/plain": [
       "'orange'"
      ]
     },
     "execution_count": 37,
     "metadata": {},
     "output_type": "execute_result"
    }
   ],
   "source": [
    "# remove\n",
    "fruits.pop('banana')"
   ]
  },
  {
   "cell_type": "code",
   "execution_count": 38,
   "metadata": {},
   "outputs": [
    {
     "name": "stdout",
     "output_type": "stream",
     "text": [
      "{'apple': 'yellow',\n",
      " 'cherry': 'red',\n",
      " 'orange': 'orange',\n",
      " 'Date': 'Brown',\n",
      " 'Almond': 'bROWN',\n",
      " 'Cashew': 'White'}\n"
     ]
    }
   ],
   "source": [
    "pp(fruits)"
   ]
  },
  {
   "cell_type": "code",
   "execution_count": 43,
   "metadata": {},
   "outputs": [
    {
     "data": {
      "text/plain": [
       "{'apple': 'yellow',\n",
       " 'cherry': 'red',\n",
       " 'orange': 'orange',\n",
       " 'Almond': 'bROWN',\n",
       " 'Cashew': 'White',\n",
       " 'Date': 'Brown'}"
      ]
     },
     "execution_count": 43,
     "metadata": {},
     "output_type": "execute_result"
    }
   ],
   "source": [
    "# sorting on keys\n",
    "sorted(fruits.items()) # list of tupple\n",
    "dict(sorted(fruits.items(),key=lambda i: i[1],reverse=True))"
   ]
  },
  {
   "cell_type": "code",
   "execution_count": 44,
   "metadata": {},
   "outputs": [
    {
     "name": "stdout",
     "output_type": "stream",
     "text": [
      "{'apple': 'YELLOW',\n",
      " 'cherry': 'RED',\n",
      " 'orange': 'ORANGE',\n",
      " 'date': 'BROWN',\n",
      " 'almond': 'BROWN',\n",
      " 'cashew': 'WHITE'}\n"
     ]
    }
   ],
   "source": [
    "clean_fruits={}\n",
    "for k,v in fruits.items():\n",
    "    clean_fruits[k.lower()]=v.upper()\n",
    "pp(clean_fruits)"
   ]
  },
  {
   "cell_type": "code",
   "execution_count": 46,
   "metadata": {},
   "outputs": [
    {
     "data": {
      "text/plain": [
       "{'apple': 'YELLOW',\n",
       " 'cherry': 'RED',\n",
       " 'orange': 'ORANGE',\n",
       " 'date': 'BROWN',\n",
       " 'almond': 'BROWN',\n",
       " 'cashew': 'WHITE'}"
      ]
     },
     "execution_count": 46,
     "metadata": {},
     "output_type": "execute_result"
    }
   ],
   "source": [
    "clean_fruits={k.lower():v.upper() for k,v in fruits.items()}\n",
    "clean_fruits"
   ]
  },
  {
   "cell_type": "code",
   "execution_count": 48,
   "metadata": {},
   "outputs": [
    {
     "data": {
      "text/plain": [
       "{'lucknow': 90, 'delhi': 105, 'chennai': 69}"
      ]
     },
     "execution_count": 48,
     "metadata": {},
     "output_type": "execute_result"
    }
   ],
   "source": [
    "avg_temp={city : sum(values) for city,values in temp.items()}\n",
    "avg_temp"
   ]
  }
 ],
 "metadata": {
  "kernelspec": {
   "display_name": "base",
   "language": "python",
   "name": "python3"
  },
  "language_info": {
   "codemirror_mode": {
    "name": "ipython",
    "version": 3
   },
   "file_extension": ".py",
   "mimetype": "text/x-python",
   "name": "python",
   "nbconvert_exporter": "python",
   "pygments_lexer": "ipython3",
   "version": "3.12.3"
  }
 },
 "nbformat": 4,
 "nbformat_minor": 2
}
