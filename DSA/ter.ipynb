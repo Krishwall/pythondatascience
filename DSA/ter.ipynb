{
 "cells": [
  {
   "cell_type": "code",
   "execution_count": 49,
   "metadata": {},
   "outputs": [
    {
     "data": {
      "text/plain": [
       "'On and keep calm code'"
      ]
     },
     "execution_count": 49,
     "metadata": {},
     "output_type": "execute_result"
    }
   ],
   "source": [
    "text = \"Keep calm and code on\"\n",
    "text=text.lower().split()\n",
    "a=list(map(lambda x:len(x),text))\n",
    "\n",
    "#l=[[text[i],a[i]] for i in range(len(text))]\n",
    "text.sort(key=lambda x:len(x))\n",
    "\" \".join(text).capitalize()\n"
   ]
  },
  {
   "cell_type": "code",
   "execution_count": 5,
   "metadata": {},
   "outputs": [
    {
     "ename": "SyntaxError",
     "evalue": "expected ':' (1150839445.py, line 3)",
     "output_type": "error",
     "traceback": [
      "\u001b[1;36m  Cell \u001b[1;32mIn[5], line 3\u001b[1;36m\u001b[0m\n\u001b[1;33m    def __init__(hash)\u001b[0m\n\u001b[1;37m                      ^\u001b[0m\n\u001b[1;31mSyntaxError\u001b[0m\u001b[1;31m:\u001b[0m expected ':'\n"
     ]
    }
   ],
   "source": [
    "a=[3,4,5,5,6,6,]\n",
    "a[:-1]\n",
    "def __init__(hash)"
   ]
  },
  {
   "cell_type": "code",
   "execution_count": 21,
   "metadata": {},
   "outputs": [
    {
     "name": "stdout",
     "output_type": "stream",
     "text": [
      "s\n",
      "a\n",
      "m\n",
      "o\n",
      "s\n",
      "a\n"
     ]
    },
    {
     "data": {
      "text/plain": [
       "'samosa'"
      ]
     },
     "execution_count": 21,
     "metadata": {},
     "output_type": "execute_result"
    }
   ],
   "source": [
    "import math\n",
    "math.isnan(5)\n",
    "\n",
    "s='samosa'\n",
    "for i in s:\n",
    "    print(i)\n",
    "    \n",
    "if -1<90<9:\n",
    "    print(True)\n",
    "s.lstrip(\"s\")\n",
    "s"
   ]
  }
 ],
 "metadata": {
  "kernelspec": {
   "display_name": "base",
   "language": "python",
   "name": "python3"
  },
  "language_info": {
   "codemirror_mode": {
    "name": "ipython",
    "version": 3
   },
   "file_extension": ".py",
   "mimetype": "text/x-python",
   "name": "python",
   "nbconvert_exporter": "python",
   "pygments_lexer": "ipython3",
   "version": "3.12.3"
  }
 },
 "nbformat": 4,
 "nbformat_minor": 2
}
