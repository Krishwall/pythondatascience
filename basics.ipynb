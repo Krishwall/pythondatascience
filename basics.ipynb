{
 "cells": [
  {
   "cell_type": "markdown",
   "metadata": {},
   "source": [
    "# Basics \n",
    "- variable\n",
    "- input \n",
    "- output "
   ]
  },
  {
   "cell_type": "code",
   "execution_count": null,
   "metadata": {},
   "outputs": [],
   "source": []
  },
  {
   "cell_type": "code",
   "execution_count": 1,
   "metadata": {},
   "outputs": [
    {
     "data": {
      "text/plain": [
       "7"
      ]
     },
     "execution_count": 1,
     "metadata": {},
     "output_type": "execute_result"
    }
   ],
   "source": [
    "2+5\n"
   ]
  },
  {
   "cell_type": "code",
   "execution_count": 2,
   "metadata": {},
   "outputs": [],
   "source": [
    "x=1.9"
   ]
  },
  {
   "cell_type": "code",
   "execution_count": 3,
   "metadata": {},
   "outputs": [],
   "source": [
    "name=input()"
   ]
  },
  {
   "cell_type": "code",
   "execution_count": 4,
   "metadata": {},
   "outputs": [],
   "source": [
    "a=[1,2,3,4]\n",
    "b={'name':'raju','age':12}"
   ]
  },
  {
   "cell_type": "code",
   "execution_count": 5,
   "metadata": {},
   "outputs": [
    {
     "data": {
      "text/plain": [
       "1.9"
      ]
     },
     "execution_count": 5,
     "metadata": {},
     "output_type": "execute_result"
    }
   ],
   "source": [
    "x"
   ]
  },
  {
   "cell_type": "code",
   "execution_count": 6,
   "metadata": {},
   "outputs": [
    {
     "data": {
      "text/plain": [
       "<bound method Kernel.raw_input of <ipykernel.ipkernel.IPythonKernel object at 0x0000022C6C5649E0>>"
      ]
     },
     "execution_count": 6,
     "metadata": {},
     "output_type": "execute_result"
    }
   ],
   "source": [
    "input"
   ]
  },
  {
   "cell_type": "code",
   "execution_count": 7,
   "metadata": {},
   "outputs": [],
   "source": [
    "input(\"ENTER A NAME\")\n",
    "city=input(\"enter your city \")\n",
    "fav_color=input(\"enter your fav colour\")\n",
    "\n"
   ]
  },
  {
   "cell_type": "code",
   "execution_count": 8,
   "metadata": {},
   "outputs": [
    {
     "name": "stdout",
     "output_type": "stream",
     "text": [
      "440\n"
     ]
    }
   ],
   "source": [
    "num1=(int)(input(\"enter a number\"))\n",
    "num1=num1*5\n",
    "print(num1)\n",
    "\n"
   ]
  },
  {
   "cell_type": "markdown",
   "metadata": {},
   "source": [
    "## DISPLAY\n"
   ]
  },
  {
   "cell_type": "code",
   "execution_count": 9,
   "metadata": {},
   "outputs": [
    {
     "name": "stdout",
     "output_type": "stream",
     "text": [
      "WELCOME TO DISPLAYING DATA\n"
     ]
    }
   ],
   "source": [
    "print('WELCOME TO DISPLAYING DATA')  # static message to display\n"
   ]
  },
  {
   "cell_type": "code",
   "execution_count": 10,
   "metadata": {},
   "outputs": [
    {
     "name": "stdout",
     "output_type": "stream",
     "text": [
      "ALex\n",
      "Baron\n"
     ]
    }
   ],
   "source": [
    "a='ALex'\n",
    "b='Baron'\n",
    "print(a) #displaying a\n",
    "print(b) #displaying b\n"
   ]
  },
  {
   "cell_type": "code",
   "execution_count": 11,
   "metadata": {},
   "outputs": [
    {
     "name": "stdout",
     "output_type": "stream",
     "text": [
      "your name is, bh\n"
     ]
    }
   ],
   "source": [
    "name=input('Enter your name')\n",
    "print('your name is,',name)"
   ]
  },
  {
   "cell_type": "code",
   "execution_count": 29,
   "metadata": {},
   "outputs": [
    {
     "name": "stdout",
     "output_type": "stream",
     "text": [
      "5 and  5\n"
     ]
    }
   ],
   "source": [
    "num1=input('enter a number')\n",
    "num2=input('enter a another number ')\n",
    "print(num1,'and ',num2)\n"
   ]
  },
  {
   "cell_type": "code",
   "execution_count": null,
   "metadata": {},
   "outputs": [],
   "source": []
  },
  {
   "cell_type": "markdown",
   "metadata": {},
   "source": [
    "'display data with message'\n",
    "\n",
    "1. comma seperator\n",
    "2. format string\n",
    "3. format method\n",
    "4.  string concatenation\n",
    "5. f string\n",
    "\n"
   ]
  },
  {
   "cell_type": "code",
   "execution_count": 30,
   "metadata": {},
   "outputs": [
    {
     "name": "stdout",
     "output_type": "stream",
     "text": [
      "the values are 5,3.20,Hello\n",
      "the values are 5,3,Hello\n",
      "the values are 5,3.2,Hello\n"
     ]
    }
   ],
   "source": [
    "a,b,c= 5,3.2,\"Hello\"  #multiple assignment\n",
    "print(\"the values are %d,%.2f,%s\"%(a,b,c)) \n",
    "print(\"the values are %s,%d,%s\"%(a,b,c)) \n",
    "print(\"the values are %s,%s,%s\"%(a,b,c)) \n"
   ]
  },
  {
   "cell_type": "code",
   "execution_count": null,
   "metadata": {},
   "outputs": [
    {
     "name": "stdout",
     "output_type": "stream",
     "text": [
      "the value of a=5, b-3.2,c=Hello\n",
      "the value of a=Hello, b-3.2,c=5\n"
     ]
    }
   ],
   "source": [
    "# format method\n",
    "print('the value of a={}, b-{},c={}'.format(a,b,c))\n",
    "print('the value of a={2}, b-{1},c={0}'.format(a,b,c))"
   ]
  },
  {
   "cell_type": "code",
   "execution_count": null,
   "metadata": {},
   "outputs": [
    {
     "name": "stdout",
     "output_type": "stream",
     "text": [
      "HELLO WORLD\n",
      "the value of a =5\n",
      "the value of a =5\n",
      "the value of b= 3.2 \n",
      " and c is =  Hello\n"
     ]
    }
   ],
   "source": [
    "# string concatenation\n",
    "print('HELLO'+' '+'WORLD')\n",
    "print('the value of a =' + str(a)) # type casting since a is accepted as integer\n",
    "\n",
    "print('the value of a ='+ str(a)+'\\nthe value of b= '+str(b)+' \\n and c is =  '+c)"
   ]
  },
  {
   "cell_type": "code",
   "execution_count": null,
   "metadata": {},
   "outputs": [
    {
     "name": "stdout",
     "output_type": "stream",
     "text": [
      "the value of a=5, b-3.2,c=Hello\n"
     ]
    }
   ],
   "source": [
    "# fstring\n",
    "print(f'the value of a={a}, b-{b},c={c}')\n"
   ]
  },
  {
   "cell_type": "markdown",
   "metadata": {},
   "source": [
    "# fstring Setting\n"
   ]
  },
  {
   "cell_type": "code",
   "execution_count": null,
   "metadata": {},
   "outputs": [
    {
     "name": "stdout",
     "output_type": "stream",
     "text": [
      "10/3= 3.33\n"
     ]
    }
   ],
   "source": [
    "a,b=10,3\n",
    "a/b\n",
    "print(f'{a}/{b}= {a/b:.2f}')\n"
   ]
  },
  {
   "cell_type": "code",
   "execution_count": null,
   "metadata": {},
   "outputs": [
    {
     "name": "stdout",
     "output_type": "stream",
     "text": [
      "You're Alex\n",
      "You are Alex      \n",
      "You are       Alex\n",
      "You are Alex      \n",
      "You are    Alex   \n"
     ]
    }
   ],
   "source": [
    "# alignment\n",
    "name='Alex'\n",
    "print(f'You\\'re {name}')\n",
    "print(f'You are {name:10}')\n",
    "print(f'You are {name:>10}')\n",
    "print(f'You are {name:<10}')\n",
    "print(f'You are {name:^10}')\n"
   ]
  },
  {
   "cell_type": "code",
   "execution_count": null,
   "metadata": {},
   "outputs": [
    {
     "name": "stdout",
     "output_type": "stream",
     "text": [
      "fruit 1:     🍎APPLE\n",
      "fruit 2:    🍌BANANA\n",
      "fruit 3:    🍒CHERRY\n",
      "fruit 4:    🍈durian\n"
     ]
    }
   ],
   "source": [
    "a='🍎APPLE'\n",
    "b='🍌BANANA'\n",
    "c='🍒CHERRY'\n",
    "d='🍈durian'\n",
    "print(f'fruit 1: {a:>10}')\n",
    "print(f'fruit 2: {b:>10}')\n",
    "print(f'fruit 3: {c:>10}')\n",
    "print(f'fruit 4: {d:>10}')"
   ]
  },
  {
   "cell_type": "code",
   "execution_count": 13,
   "metadata": {},
   "outputs": [
    {
     "name": "stdout",
     "output_type": "stream",
     "text": [
      "2\n"
     ]
    }
   ],
   "source": [
    "import random\n",
    "\n",
    "print(random.randint(1,6))\n",
    "\n",
    "\n"
   ]
  },
  {
   "cell_type": "markdown",
   "metadata": {},
   "source": [
    "# operators\n"
   ]
  },
  {
   "cell_type": "code",
   "execution_count": 19,
   "metadata": {},
   "outputs": [
    {
     "name": "stdout",
     "output_type": "stream",
     "text": [
      "False\n",
      "False\n",
      "True\n",
      "True\n",
      "False\n",
      "True\n"
     ]
    }
   ],
   "source": [
    "x=5\n",
    "y=6\n",
    "print(x>y)\n",
    "print(x==y)\n",
    "print(x<y)\n",
    "print(x<=y)\n",
    "print(x>=y)\n",
    "print(x!=y)\n"
   ]
  },
  {
   "cell_type": "code",
   "execution_count": 20,
   "metadata": {},
   "outputs": [
    {
     "data": {
      "text/plain": [
       "True"
      ]
     },
     "execution_count": 20,
     "metadata": {},
     "output_type": "execute_result"
    }
   ],
   "source": [
    "x+10>y-5\n"
   ]
  },
  {
   "cell_type": "code",
   "execution_count": 23,
   "metadata": {},
   "outputs": [],
   "source": [
    "import time\n",
    "x>y and x<100\n",
    "time.sleep(9)"
   ]
  },
  {
   "cell_type": "code",
   "execution_count": 24,
   "metadata": {},
   "outputs": [
    {
     "data": {
      "text/plain": [
       "False"
      ]
     },
     "execution_count": 24,
     "metadata": {},
     "output_type": "execute_result"
    }
   ],
   "source": [
    "x>y and x>100 #this will not be displayed\n",
    "x>15 and x>10"
   ]
  },
  {
   "cell_type": "code",
   "execution_count": 26,
   "metadata": {},
   "outputs": [
    {
     "name": "stdout",
     "output_type": "stream",
     "text": [
      "True\n",
      "False\n",
      "True\n",
      "True\n",
      "<class 'list'>\n"
     ]
    }
   ],
   "source": [
    "fruits= ['apple',\"b\",\"cherry\",'date','elderberry']\n",
    "print('cherry' in fruits)\n",
    "print('banana' in fruits)\n",
    "print('apple' in fruits)\n",
    "print('date' in fruits)\n"
   ]
  },
  {
   "cell_type": "code",
   "execution_count": 28,
   "metadata": {},
   "outputs": [
    {
     "name": "stdout",
     "output_type": "stream",
     "text": [
      "True\n",
      "False\n"
     ]
    }
   ],
   "source": [
    "f=fruits # f is a reference to fruits\n",
    "print(f is fruits)\n",
    "f2=fruits.copy()\n",
    "print(f2 is fruits)\n"
   ]
  },
  {
   "cell_type": "markdown",
   "metadata": {},
   "source": [
    "# type casting\n"
   ]
  },
  {
   "cell_type": "code",
   "execution_count": 32,
   "metadata": {},
   "outputs": [
    {
     "name": "stdout",
     "output_type": "stream",
     "text": [
      "<class 'int'> <class 'float'>\n",
      "True\n",
      "True\n",
      "False\n"
     ]
    }
   ],
   "source": [
    "x=10\n",
    "xf=10.0\n",
    "print(type(x),type(xf))\n",
    "print(isinstance(x,int))\n",
    "print(isinstance(xf,float))\n",
    "print(isinstance(xf,str))\n",
    "print(isinstance(xf,(int,float)))\n",
    "\n"
   ]
  },
  {
   "cell_type": "code",
   "execution_count": 33,
   "metadata": {},
   "outputs": [
    {
     "ename": "ValueError",
     "evalue": "invalid literal for int() with base 10: '20a'",
     "output_type": "error",
     "traceback": [
      "\u001b[1;31m---------------------------------------------------------------------------\u001b[0m",
      "\u001b[1;31mValueError\u001b[0m                                Traceback (most recent call last)",
      "Cell \u001b[1;32mIn[33], line 1\u001b[0m\n\u001b[1;32m----> 1\u001b[0m \u001b[38;5;28mint\u001b[39m(\u001b[38;5;124m'\u001b[39m\u001b[38;5;124m20a\u001b[39m\u001b[38;5;124m'\u001b[39m)\n",
      "\u001b[1;31mValueError\u001b[0m: invalid literal for int() with base 10: '20a'"
     ]
    }
   ],
   "source": [
    "int('20a')"
   ]
  },
  {
   "cell_type": "code",
   "execution_count": 34,
   "metadata": {},
   "outputs": [
    {
     "data": {
      "text/plain": [
       "97"
      ]
     },
     "execution_count": 34,
     "metadata": {},
     "output_type": "execute_result"
    }
   ],
   "source": [
    "ord('a') # returns the  UNICODE value of a character\n"
   ]
  },
  {
   "cell_type": "code",
   "execution_count": 35,
   "metadata": {},
   "outputs": [
    {
     "name": "stdout",
     "output_type": "stream",
     "text": [
      "a\n"
     ]
    }
   ],
   "source": [
    "print(chr(97)) # RETurns the character of a unicode value"
   ]
  },
  {
   "cell_type": "code",
   "execution_count": 38,
   "metadata": {},
   "outputs": [
    {
     "name": "stdout",
     "output_type": "stream",
     "text": [
      "124\n"
     ]
    }
   ],
   "source": [
    "x=int(input(\"enter a number\"))\n",
    "y=int(input(\"enter another number\"))\n",
    "print(x+y)\n",
    "\n"
   ]
  }
 ],
 "metadata": {
  "kernelspec": {
   "display_name": "Python 3",
   "language": "python",
   "name": "python3"
  },
  "language_info": {
   "codemirror_mode": {
    "name": "ipython",
    "version": 3
   },
   "file_extension": ".py",
   "mimetype": "text/x-python",
   "name": "python",
   "nbconvert_exporter": "python",
   "pygments_lexer": "ipython3",
   "version": "3.12.3"
  }
 },
 "nbformat": 4,
 "nbformat_minor": 2
}
