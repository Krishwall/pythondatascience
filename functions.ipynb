{
 "cells": [
  {
   "cell_type": "markdown",
   "metadata": {},
   "source": [
    "### funtions are of two types\n",
    "- pre-defined\n",
    "\n",
    "  - `print`, `input` ,`sum`, `len`,`is instance`\n",
    "\n",
    "- user-defined\n",
    "\n",
    "  - `defined by users(coder)`\n",
    "     - `reusability`\n",
    "     - `easy debugging`\n",
    "     - `manageable`"
   ]
  },
  {
   "cell_type": "code",
   "execution_count": 10,
   "metadata": {},
   "outputs": [],
   "source": [
    "# defining thr function\n",
    "def greetings():\n",
    "    print(\"☀️☀️☀️☀️☀️☀️\")\n",
    "    print(\"Good morning\")\n",
    "    print(\"☀️☀️☀️☀️☀️☀️\")\n",
    "    "
   ]
  },
  {
   "cell_type": "code",
   "execution_count": 11,
   "metadata": {},
   "outputs": [
    {
     "data": {
      "text/plain": [
       "<function __main__.greetings()>"
      ]
     },
     "execution_count": 11,
     "metadata": {},
     "output_type": "execute_result"
    }
   ],
   "source": [
    "greetings\n"
   ]
  },
  {
   "cell_type": "code",
   "execution_count": 12,
   "metadata": {},
   "outputs": [
    {
     "name": "stdout",
     "output_type": "stream",
     "text": [
      "☀️☀️☀️☀️☀️☀️\n",
      "Good morning\n",
      "☀️☀️☀️☀️☀️☀️\n"
     ]
    }
   ],
   "source": [
    "greetings()"
   ]
  },
  {
   "cell_type": "code",
   "execution_count": 13,
   "metadata": {},
   "outputs": [
    {
     "name": "stdout",
     "output_type": "stream",
     "text": [
      "☀️☀️☀️☀️☀️☀️\n",
      "Good morning\n",
      "☀️☀️☀️☀️☀️☀️\n",
      "None\n"
     ]
    }
   ],
   "source": [
    "print(greetings())"
   ]
  },
  {
   "cell_type": "code",
   "execution_count": 14,
   "metadata": {},
   "outputs": [],
   "source": [
    "\n",
    "def roll():\n",
    "    from random import randint\n",
    "    dice=randint(1,6)\n",
    "    print(f'{dice}')"
   ]
  },
  {
   "cell_type": "code",
   "execution_count": 17,
   "metadata": {},
   "outputs": [
    {
     "name": "stdout",
     "output_type": "stream",
     "text": [
      "1\n"
     ]
    }
   ],
   "source": [
    "roll()"
   ]
  },
  {
   "cell_type": "code",
   "execution_count": 17,
   "metadata": {},
   "outputs": [
    {
     "data": {
      "text/plain": [
       "'scissor'"
      ]
     },
     "execution_count": 17,
     "metadata": {},
     "output_type": "execute_result"
    }
   ],
   "source": [
    "import random\n",
    "mylist=['rock','paper','scissor']\n",
    "random.choice(['rock','paper','scissor'])"
   ]
  },
  {
   "cell_type": "code",
   "execution_count": 18,
   "metadata": {},
   "outputs": [
    {
     "name": "stdout",
     "output_type": "stream",
     "text": [
      "1\n",
      "2\n",
      "3\n",
      "4\n",
      "5\n",
      "6\n",
      "7\n",
      "8\n",
      "9\n",
      "10\n"
     ]
    }
   ],
   "source": [
    "for i in range(1,11):\n",
    "    print(i)"
   ]
  },
  {
   "cell_type": "code",
   "execution_count": 22,
   "metadata": {},
   "outputs": [
    {
     "name": "stdout",
     "output_type": "stream",
     "text": [
      "2550\n"
     ]
    }
   ],
   "source": [
    "cal=0\n",
    "for i in range(0,101,2):\n",
    "\n",
    "    cal=cal+i\n",
    "print (cal)"
   ]
  },
  {
   "cell_type": "code",
   "execution_count": 28,
   "metadata": {},
   "outputs": [],
   "source": [
    "num=int(input(\"enter a no.\"))\n",
    "n=1\n",
    "c=0\n",
    "while n!=num :\n",
    "    if num%n==0:\n",
    "         c+=1\n",
    "    n+=1     \n",
    "if c==1:\n",
    "     print(\"a prime no.\")"
   ]
  },
  {
   "cell_type": "code",
   "execution_count": 29,
   "metadata": {},
   "outputs": [
    {
     "name": "stdout",
     "output_type": "stream",
     "text": [
      "120\n"
     ]
    }
   ],
   "source": [
    "# factorial\n",
    "num=int(input(\"enter a no.\"))\n",
    "fact=1\n",
    "for i in range(1,num+1):\n",
    "    fact=fact*i\n",
    "print(fact)"
   ]
  },
  {
   "cell_type": "code",
   "execution_count": 34,
   "metadata": {},
   "outputs": [
    {
     "name": "stdout",
     "output_type": "stream",
     "text": [
      "1,1,2,3,5,8,"
     ]
    }
   ],
   "source": [
    "# fibonacci\n",
    "num=int(input(\"enter a no.\"))\n",
    "a=1\n",
    "b=1\n",
    "print(f'{a},{b},',end=\"\")\n",
    "for i in range(1,num-1):\n",
    "    c=a+b\n",
    "    a=b\n",
    "    b=c\n",
    "    print(c,end=\",\")"
   ]
  },
  {
   "cell_type": "code",
   "execution_count": 75,
   "metadata": {},
   "outputs": [
    {
     "name": "stdout",
     "output_type": "stream",
     "text": [
      "max= 10000\n"
     ]
    }
   ],
   "source": [
    "x=[35,1,6,4564,2,42,5,73,10000,5,23]\n",
    "t=0\n",
    "for i in range(0,len(x)):\n",
    "    max2=x[i]\n",
    "    for j in range(0,len(x)):\n",
    "        if max2<x[j]:\n",
    "      \n",
    "            max2=x[j]\n",
    "       \n",
    "print(\"max=\",max2)   \n"
   ]
  },
  {
   "cell_type": "code",
   "execution_count": 78,
   "metadata": {},
   "outputs": [
    {
     "name": "stdout",
     "output_type": "stream",
     "text": [
      "doog ton si egelloc siht\n"
     ]
    }
   ],
   "source": [
    "#Write a program to reverse a given string using a while loop.\n",
    "string,i=\"this college is not good\",0\n",
    "rev=\"\"\n",
    "length=len(string)\n",
    "while length>0:\n",
    "    length-=1\n",
    "    rev=rev+string[length]\n",
    "print(rev)\n",
    " "
   ]
  },
  {
   "cell_type": "code",
   "execution_count": 83,
   "metadata": {},
   "outputs": [
    {
     "name": "stdout",
     "output_type": "stream",
     "text": [
      "65 A\n",
      "66 B\n",
      "67 C\n",
      "68 D\n",
      "69 E\n",
      "70 F\n",
      "71 G\n",
      "72 H\n",
      "73 I\n",
      "74 J\n",
      "75 K\n",
      "76 L\n",
      "77 M\n",
      "78 N\n",
      "79 O\n",
      "80 P\n",
      "81 Q\n",
      "82 R\n",
      "83 S\n",
      "84 T\n",
      "85 U\n",
      "86 V\n",
      "87 W\n",
      "88 X\n",
      "89 Y\n",
      "90 Z\n"
     ]
    }
   ],
   "source": [
    "for i in range(ord(\"A\"),ord(\"Z\")+1):\n",
    "    print(i,chr(i))"
   ]
  },
  {
   "cell_type": "code",
   "execution_count": 85,
   "metadata": {},
   "outputs": [
    {
     "name": "stdout",
     "output_type": "stream",
     "text": [
      "ANNAH\n"
     ]
    }
   ],
   "source": [
    "rev=\"\"\n",
    "string=\"HANNA\"\n",
    "length=len(string)\n",
    "while length>0:\n",
    "    length-=1\n",
    "    rev=rev+string[length]\n",
    "print(rev)\n",
    "if rev==string:\n",
    "    print(\"It's a pallindrome\")"
   ]
  },
  {
   "cell_type": "code",
   "execution_count": 93,
   "metadata": {},
   "outputs": [
    {
     "name": "stdout",
     "output_type": "stream",
     "text": [
      "4\n"
     ]
    }
   ],
   "source": [
    "numbers=[35,75,13,4,96,33,7,13,123]\n",
    "min1=0\n",
    "i=0\n",
    "min1=numbers[0]\n",
    "while i<len(numbers)-1:\n",
    "    \n",
    "    if(min1>numbers[i]):\n",
    "        min1=numbers[i]\n",
    "    i+=1\n",
    "print(min1)"
   ]
  },
  {
   "cell_type": "code",
   "execution_count": 137,
   "metadata": {},
   "outputs": [
    {
     "name": "stdout",
     "output_type": "stream",
     "text": [
      "21\n"
     ]
    }
   ],
   "source": [
    "# Summ of digits\n",
    "import math\n",
    "num=int(input(\"enter a no.\"))\n",
    "sumofdigits=0\n",
    "n=num\n",
    "add=0\n",
    "c=0\n",
    "while n!=0:\n",
    "    n=n//10\n",
    "    c+=1\n",
    "for i in range(1,c+1):\n",
    "    add=add+num%10\n",
    "    num==num//10\n",
    "   \n",
    "print (add)"
   ]
  },
  {
   "cell_type": "code",
   "execution_count": 2,
   "metadata": {},
   "outputs": [
    {
     "name": "stdout",
     "output_type": "stream",
     "text": [
      "2004\n",
      "2020\n",
      "2000\n",
      "1600\n"
     ]
    }
   ],
   "source": [
    "years=[2004,2020,1800,2000,1600]\n",
    "total=len(years)\n",
    "i=0\n",
    "while i!=total:\n",
    "   if years[i]%400==0 or (years[i]%4==0 and years[i]%100!=0) :\n",
    "      print(years[i])\n",
    "   i+=1\n",
    "      "
   ]
  },
  {
   "cell_type": "code",
   "execution_count": 3,
   "metadata": {},
   "outputs": [
    {
     "name": "stdout",
     "output_type": "stream",
     "text": [
      "1  *   1 = 1\n",
      "1  *   2 = 2\n",
      "1  *   3 = 3\n",
      "1  *   4 = 4\n",
      "1  *   5 = 5\n",
      "1  *   6 = 6\n",
      "1  *   7 = 7\n",
      "1  *   8 = 8\n",
      "1  *   9 = 9\n",
      "1  *   10 = 10\n",
      "2  *   1 = 2\n",
      "2  *   2 = 4\n",
      "2  *   3 = 6\n",
      "2  *   4 = 8\n",
      "2  *   5 = 10\n",
      "2  *   6 = 12\n",
      "2  *   7 = 14\n",
      "2  *   8 = 16\n",
      "2  *   9 = 18\n",
      "2  *   10 = 20\n",
      "3  *   1 = 3\n",
      "3  *   2 = 6\n",
      "3  *   3 = 9\n",
      "3  *   4 = 12\n",
      "3  *   5 = 15\n",
      "3  *   6 = 18\n",
      "3  *   7 = 21\n",
      "3  *   8 = 24\n",
      "3  *   9 = 27\n",
      "3  *   10 = 30\n",
      "4  *   1 = 4\n",
      "4  *   2 = 8\n",
      "4  *   3 = 12\n",
      "4  *   4 = 16\n",
      "4  *   5 = 20\n",
      "4  *   6 = 24\n",
      "4  *   7 = 28\n",
      "4  *   8 = 32\n",
      "4  *   9 = 36\n",
      "4  *   10 = 40\n",
      "5  *   1 = 5\n",
      "5  *   2 = 10\n",
      "5  *   3 = 15\n",
      "5  *   4 = 20\n",
      "5  *   5 = 25\n",
      "5  *   6 = 30\n",
      "5  *   7 = 35\n",
      "5  *   8 = 40\n",
      "5  *   9 = 45\n",
      "5  *   10 = 50\n"
     ]
    }
   ],
   "source": [
    "for i in range(1,6):\n",
    "    for j in range(1,11):\n",
    "        print(f'{i}  *   {j} = {i*j}')"
   ]
  },
  {
   "cell_type": "code",
   "execution_count": 5,
   "metadata": {},
   "outputs": [
    {
     "name": "stdout",
     "output_type": "stream",
     "text": [
      "aeiou aeiou abcdefu\n",
      "13\n",
      "\n"
     ]
    }
   ],
   "source": [
    "sen=input(\"Enter a sentence  :\")\n",
    "s=0\n",
    "def isVowel(i):\n",
    "    if i.lower()=='a' or i.lower()=='e' or i.lower()=='i' or i.lower()=='o' or i.lower()=='u' :\n",
    "        return True\n",
    "    else:\n",
    "        return False\n",
    "for i in sen:\n",
    "    if  isVowel(i):\n",
    "      \n",
    "        s=s+1\n",
    "print(sen)\n",
    "print(s)\n",
    "print()\n",
    "\n"
   ]
  }
 ],
 "metadata": {
  "kernelspec": {
   "display_name": "base",
   "language": "python",
   "name": "python3"
  },
  "language_info": {
   "codemirror_mode": {
    "name": "ipython",
    "version": 3
   },
   "file_extension": ".py",
   "mimetype": "text/x-python",
   "name": "python",
   "nbconvert_exporter": "python",
   "pygments_lexer": "ipython3",
   "version": "3.12.3"
  }
 },
 "nbformat": 4,
 "nbformat_minor": 2
}
