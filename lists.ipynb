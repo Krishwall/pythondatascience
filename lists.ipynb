{
 "cells": [
  {
   "cell_type": "code",
   "execution_count": 6,
   "metadata": {},
   "outputs": [
    {
     "name": "stdout",
     "output_type": "stream",
     "text": [
      "['hello']\n",
      "['hello', 'krish']\n",
      "['hello', 'krish', 'how']\n",
      "['hello', 'krish', 'how', 'have']\n",
      "['hello', 'krish', 'how', 'have', 'you']\n",
      "['hello', 'krish', 'how', 'have', 'you', 'been?']\n"
     ]
    }
   ],
   "source": [
    "emptylist=[]\n",
    "condition='y'\n",
    "while condition=='y' :\n",
    "    s=input(\"what do you want to append to the list? : \")\n",
    "    emptylist.append(s)\n",
    "    condition=input(\"to continue press y\")\n",
    "\n",
    "print(emptylist)\n"
   ]
  },
  {
   "cell_type": "code",
   "execution_count": 15,
   "metadata": {},
   "outputs": [],
   "source": [
    "numlist=[533,53535,4,353,53,5432,2,6,4,53,0]\n",
    "find1=int(input(\"enter the no. you want to find\"))\n",
    "for i in numlist:\n",
    "    if find1==i :\n",
    "        print(f\"the no. is found in the list at pos:{numlist.index(find1)+1}\")\n",
    "        break\n"
   ]
  },
  {
   "cell_type": "code",
   "execution_count": 1,
   "metadata": {},
   "outputs": [
    {
     "name": "stdout",
     "output_type": "stream",
     "text": [
      "['helpme']\n"
     ]
    }
   ],
   "source": [
    "stringlist=['dancing','singing','playing','boxing','helpme']\n",
    "mystring=[]\n",
    "for i in stringlist:\n",
    "    if i.find('ing')==-1:\n",
    "       mystring.append(i)\n",
    "    \n",
    "print(mystring)"
   ]
  },
  {
   "cell_type": "code",
   "execution_count": 33,
   "metadata": {},
   "outputs": [
    {
     "name": "stdout",
     "output_type": "stream",
     "text": [
      "[['dancing', 'singing', 'playing', 'boxing', 'helpme'], [533, 53535, 4, 353, 53, 5432, 2, 6, 4, 53, 0], ['hello', 'krish', 'how', 'have', 'you', 'been?']]\n"
     ]
    },
    {
     "data": {
      "text/plain": [
       "'singing'"
      ]
     },
     "execution_count": 33,
     "metadata": {},
     "output_type": "execute_result"
    }
   ],
   "source": [
    "nestedlist=[stringlist,numlist,emptylist]\n",
    "print(nestedlist)\n",
    "nestedlist[0][1]"
   ]
  },
  {
   "cell_type": "code",
   "execution_count": 2,
   "metadata": {},
   "outputs": [
    {
     "name": "stdout",
     "output_type": "stream",
     "text": [
      "[1, 2, 3, 7, 4, 5, 56, 6]\n",
      "net time 0.000000000000000\n"
     ]
    }
   ],
   "source": [
    "import time\n",
    "st=time.time()\n",
    "\n",
    "duplicate=[1,1,1,1,1,2,2,2,3,7,3,3,4,4,5,5,56,6,6,6]\n",
    "unique=[]\n",
    "for i in duplicate:\n",
    "  \n",
    "  while i not in unique:\n",
    "    unique.append(i)\n",
    "print(unique)\n",
    "et=time.time()\n",
    "\n",
    "print(f\"net time {et-st:.15f}\")\n"
   ]
  },
  {
   "cell_type": "code",
   "execution_count": 8,
   "metadata": {},
   "outputs": [
    {
     "name": "stdout",
     "output_type": "stream",
     "text": [
      "[6, 6, 6, 56, 5, 5, 4, 4, 3, 3, 7, 3, 2, 2, 2, 1, 1, 1, 1, 1]\n"
     ]
    }
   ],
   "source": [
    "duplicate.reverse()\n",
    "print(duplicate)\n",
    "\n"
   ]
  },
  {
   "cell_type": "code",
   "execution_count": 2,
   "metadata": {},
   "outputs": [
    {
     "name": "stdout",
     "output_type": "stream",
     "text": [
      "['h', 'e', 'l', 'l', 'o']\n",
      "['h', 'e', 'l', 'l', 'o']\n",
      "['s', 't', 'r', 'i', '1', 'n', 'g']\n",
      "['u', 'n', 'p', 'a', 'c', 'k']\n",
      "g\n",
      "['s', 't', 'r', 'i', '1', 'n']\n"
     ]
    }
   ],
   "source": [
    "d=[]\n",
    "lst=[]\n",
    "d[:]=\"hello\"\n",
    "print(d)\n",
    "lst.extend(\"hello\")\n",
    "print(lst)\n",
    "x=list(\"stri1ng\")\n",
    "print(x)\n",
    "print([*\"unpack\"]) # * unpack operator\n",
    "x[0].isalpha()\n",
    "print(x.pop())\n",
    "print (x)\n"
   ]
  },
  {
   "cell_type": "code",
   "execution_count": 83,
   "metadata": {},
   "outputs": [
    {
     "name": "stdout",
     "output_type": "stream",
     "text": [
      "[]\n",
      "[]\n",
      "[]\n",
      "[[1, 4, 7]]\n",
      "[[1, 4, 7]]\n",
      "[[1, 4, 7]]\n",
      "[[1, 4, 7], [2, 5, 8]]\n",
      "[[1, 4, 7], [2, 5, 8]]\n",
      "[[1, 4, 7], [2, 5, 8]]\n",
      "[[1, 4, 7], [2, 5, 8], [3, 6, 9]]\n"
     ]
    }
   ],
   "source": [
    "'''Example input: [1, 2, 3], [4, 5, 6]\n",
    "Example output: [[1, 4], [2, 5], [3, 6]]'''\n",
    "a=[1,2,3]\n",
    "b=[4,5,6]\n",
    "c=[7,8,9]\n",
    "ab=[]\n",
    "list1=[]\n",
    "list2=[]\n",
    "for i in range(len(a)):\n",
    "   for j in range(0,3):\n",
    "      ''' ab[i].append(a[i])\n",
    "       ab[i].append(b[i])'''\n",
    "      if j==0:\n",
    "          list1.append(a[i])\n",
    "      elif j==1:\n",
    "          list1.append(b[i])    \n",
    "      else :\n",
    "          list1.append(c[i])\n",
    "\n",
    "      print(ab)\n",
    "      list2=list1.copy()\n",
    "   ab.append(list2)\n",
    "   list1.clear()\n",
    "    \n",
    "        \n",
    "print(ab)"
   ]
  },
  {
   "cell_type": "code",
   "execution_count": 90,
   "metadata": {},
   "outputs": [
    {
     "data": {
      "text/plain": [
       "[['l', 'e', 'p', 'a'], ['b', 'n', 'a'], ['e', 'y', 'h', 'c', 'r']]"
      ]
     },
     "execution_count": 90,
     "metadata": {},
     "output_type": "execute_result"
    }
   ],
   "source": [
    "'''Example input: ['apple', 'banana', 'cherry']\n",
    "Example output: [['a', 'p', 'l', 'e'], ['b', 'a', 'n'], ['c', 'h', 'e', 'r', 'y']]'''\n",
    "fruits=['apple', 'banana', 'cherry']\n",
    "newfruits=[]\n",
    "for i in fruits:\n",
    "    newfruits.append(list(set(i)))\n",
    "newfruits\n",
    "\n"
   ]
  },
  {
   "cell_type": "code",
   "execution_count": 7,
   "metadata": {},
   "outputs": [
    {
     "name": "stdout",
     "output_type": "stream",
     "text": [
      "[9, 8, 7, 6, 5, 4, 3, 2, 1]\n"
     ]
    }
   ],
   "source": [
    "def reverse_list(a:list):\n",
    "    a= a[::-1]\n",
    "    print(a)\n",
    "reverse_list([1,2,3,4,5,6,7,8,9])\n",
    "\n"
   ]
  },
  {
   "cell_type": "markdown",
   "metadata": {},
   "source": [
    "# list\n",
    "- creating\n",
    "- indexing n sliccing\n",
    "- methods\n",
    "- comprehension\n"
   ]
  },
  {
   "cell_type": "code",
   "execution_count": 1,
   "metadata": {},
   "outputs": [
    {
     "name": "stdout",
     "output_type": "stream",
     "text": [
      "[]\n",
      "[1, 2, 3, 4]\n",
      "['apple', 'banana', 'cherry']\n",
      "['apple', 1, 'banana', 2, 'cherry', 3]\n",
      "[[1, 2, 3], [4, 5, 6], [7, 8, 9]]\n",
      "[['apple,1'], ['banana', 2], ['cherry', 3]]\n"
     ]
    }
   ],
   "source": [
    "a=[]\n",
    "b=[1,2,3,4]\n",
    "c=['apple','banana','cherry']\n",
    "d=['apple',1,'banana',2,'cherry',3]\n",
    "e=[[1,2,3],[4,5,6],[7,8,9]]\n",
    "f=[['apple,1'],['banana',2],['cherry',3]]\n",
    "print(a)\n",
    "print(b)\n",
    "print(c)\n",
    "print(d)\n",
    "print(e)\n",
    "print(f)"
   ]
  },
  {
   "cell_type": "code",
   "execution_count": 2,
   "metadata": {},
   "outputs": [
    {
     "name": "stdout",
     "output_type": "stream",
     "text": [
      "['h', 'e', 'l', 'l', 'o']\n",
      "[0, 1, 2, 3, 4, 5, 6, 7, 8, 9]\n",
      "[1, 2, 3, 4, 5]\n",
      "[1, 2, 3, 1, 2, 3, 1, 2, 3, 1, 2, 3, 1, 2, 3]\n"
     ]
    }
   ],
   "source": [
    "g=list('hello')\n",
    "h=list(range(10))\n",
    "i=list((1,2,3,4,5))\n",
    "j=[1,2,3]*5\n",
    "print(g)\n",
    "print(h)\n",
    "print(i)\n",
    "print(j)"
   ]
  },
  {
   "cell_type": "code",
   "execution_count": 5,
   "metadata": {},
   "outputs": [
    {
     "name": "stdout",
     "output_type": "stream",
     "text": [
      "['godfather', 'godfather2', 'inventing the abotts', 'american pie: naked mile', 'fall guy']\n",
      "5\n",
      "firdt movie godfather\n",
      "second movie godfather2\n",
      "last movie fall guy\n"
     ]
    }
   ],
   "source": [
    "movies=['godfather','godfather2','inventing the abotts','american pie: naked mile','fall guy']\n",
    "print(movies)\n",
    "print(len(movies))\n",
    "print(\"firdt movie\",movies[0])\n",
    "print(\"second movie\",movies[1])\n",
    "print(\"last movie\",movies[-1])"
   ]
  },
  {
   "cell_type": "code",
   "execution_count": 11,
   "metadata": {},
   "outputs": [
    {
     "name": "stdout",
     "output_type": "stream",
     "text": [
      "[3, 4, 5, 6, 7, 8]\n",
      "[1, 2, 3]\n",
      "[10, 9, 8, 7, 6, 5, 4, 3, 2, 1]\n",
      "[8, 9, 10]\n"
     ]
    }
   ],
   "source": [
    "numbers=[1,2,3,4,5,6,7,8,9,10]\n",
    "print(numbers[2:-2])\n",
    "print(numbers[:3])\n",
    "print(numbers[::-1])\n",
    "print(numbers[-3:])\n"
   ]
  },
  {
   "cell_type": "markdown",
   "metadata": {},
   "source": [
    "## list methods(11)\n",
    "- adding/updating\n",
    "    - `append`\n",
    "    - `extend`\n",
    "    - `insert`\n",
    "- removing/deleting\n",
    "    - `remove()`\n",
    "    - `pop()`\n",
    "    - `clear()`\n",
    "- utility\n",
    "    - `sort()`\n",
    "    - `reverse()`\n",
    "    - `index()`\n",
    "    - `count()`\n",
    "    - `copy()`\n"
   ]
  },
  {
   "cell_type": "code",
   "execution_count": 12,
   "metadata": {},
   "outputs": [
    {
     "name": "stdout",
     "output_type": "stream",
     "text": [
      "favourite books : ['dune', 'dune2:the messiah', 'dune3:the closure', 'go4ng', 'ogneong']\n",
      "hated books:  ['gegg', 'trgrg', 'rhr']\n"
     ]
    }
   ],
   "source": [
    "fav_books=[]\n",
    "hated_books=[]\n",
    "for i in range(5):\n",
    "    book=input(\"Enter your favourite book\")\n",
    "    fav_books.append(book)\n",
    "for i in range(3):\n",
    "      book=input(\"Enter your hated book\")\n",
    "      hated_books.append(book)\n",
    "print(\"favourite books :\",fav_books)\n",
    "print(\"hated books: \",hated_books)"
   ]
  },
  {
   "cell_type": "code",
   "execution_count": 17,
   "metadata": {},
   "outputs": [
    {
     "data": {
      "text/plain": [
       "['dune',\n",
       " 'dune2:the messiah',\n",
       " 'dune3:the closure',\n",
       " 'go4ng',\n",
       " 'ogneong',\n",
       " 'gegg',\n",
       " 'trgrg',\n",
       " 'rhr',\n",
       " '50 shades of grey',\n",
       " '50shades of freed']"
      ]
     },
     "execution_count": 17,
     "metadata": {},
     "output_type": "execute_result"
    }
   ],
   "source": [
    "books=fav_books+hated_books\n",
    "books.extend(['50 shades of grey','50shades of freed'.])\n",
    "books"
   ]
  },
  {
   "cell_type": "code",
   "execution_count": 19,
   "metadata": {},
   "outputs": [
    {
     "data": {
      "text/plain": [
       "['dune',\n",
       " 'dune2:the messiah',\n",
       " 'perksof beinng a wallflower',\n",
       " 'dune3:the closure',\n",
       " 'go4ng',\n",
       " 'ogneong',\n",
       " 'gegg',\n",
       " 'trgrg',\n",
       " 'rhr',\n",
       " '50 shades of grey',\n",
       " '50shades of freed']"
      ]
     },
     "execution_count": 19,
     "metadata": {},
     "output_type": "execute_result"
    }
   ],
   "source": [
    "books.insert(2,'perksof beinng a wallflower')\n",
    "books\n"
   ]
  },
  {
   "cell_type": "code",
   "execution_count": 25,
   "metadata": {},
   "outputs": [
    {
     "ename": "ValueError",
     "evalue": "list.remove(x): x not in list",
     "output_type": "error",
     "traceback": [
      "\u001b[1;31m---------------------------------------------------------------------------\u001b[0m",
      "\u001b[1;31mValueError\u001b[0m                                Traceback (most recent call last)",
      "Cell \u001b[1;32mIn[25], line 1\u001b[0m\n\u001b[1;32m----> 1\u001b[0m books\u001b[38;5;241m.\u001b[39mremove(\u001b[38;5;124m'\u001b[39m\u001b[38;5;124mrhr\u001b[39m\u001b[38;5;124m'\u001b[39m)\n\u001b[0;32m      2\u001b[0m books\n",
      "\u001b[1;31mValueError\u001b[0m: list.remove(x): x not in list"
     ]
    }
   ],
   "source": [
    "books.remove('rhr')\n",
    "books"
   ]
  },
  {
   "cell_type": "code",
   "execution_count": 27,
   "metadata": {},
   "outputs": [
    {
     "data": {
      "text/plain": [
       "'trgrg'"
      ]
     },
     "execution_count": 27,
     "metadata": {},
     "output_type": "execute_result"
    }
   ],
   "source": [
    "books.pop(6)"
   ]
  },
  {
   "cell_type": "code",
   "execution_count": 28,
   "metadata": {},
   "outputs": [
    {
     "data": {
      "text/plain": [
       "[]"
      ]
     },
     "execution_count": 28,
     "metadata": {},
     "output_type": "execute_result"
    }
   ],
   "source": [
    "hated_books.clear()\n",
    "hated_books"
   ]
  },
  {
   "cell_type": "markdown",
   "metadata": {},
   "source": [
    "#### wap to create an empty list , then fill the list with 10 prime nos. using a loop,starting with 2\n"
   ]
  },
  {
   "cell_type": "code",
   "execution_count": 10,
   "metadata": {},
   "outputs": [
    {
     "name": "stdout",
     "output_type": "stream",
     "text": [
      "1\n",
      "2\n",
      "3\n",
      "4\n",
      "5\n",
      "6\n",
      "7\n",
      "8\n",
      "9\n",
      "10\n",
      "[2, 3, 5, 7, 11, 13, 17, 19, 23, 29]\n"
     ]
    }
   ],
   "source": [
    "prime=[]\n",
    "c=0\n",
    "p=2\n",
    "k=0\n",
    "while c<10:\n",
    "    k=0\n",
    "    for i in range(1,p):\n",
    "        if p%i==0:\n",
    "            k+=1\n",
    "      \n",
    "    if k==1:\n",
    "        c+=1\n",
    "        prime.append(p) \n",
    "        print(c)    \n",
    "    p+=1\n",
    "print(prime)   "
   ]
  },
  {
   "cell_type": "code",
   "execution_count": 28,
   "metadata": {},
   "outputs": [
    {
     "name": "stdout",
     "output_type": "stream",
     "text": [
      "[[1, 0, 0], [1, 0, 0], [1, 0, 0], [1, 0, 0], [1, 0, 0]]\n"
     ]
    }
   ],
   "source": [
    "a=[0]\n",
    "a=[[a[0]]*3]*5\n",
    "a[0][0]=1\n",
    "print(a)\n"
   ]
  },
  {
   "cell_type": "code",
   "execution_count": 29,
   "metadata": {},
   "outputs": [
    {
     "name": "stdout",
     "output_type": "stream",
     "text": [
      "[[2, 0, 0], [0, 0, 0], [0, 0, 0], [0, 0, 0], [0, 0, 0]]\n"
     ]
    }
   ],
   "source": [
    "x = [[0, 0, 0], [0, 0, 0], [0, 0, 0], [0, 0, 0], [0, 0,  0]]\n",
    "x[0][0] = 2\n",
    "print(x)"
   ]
  },
  {
   "cell_type": "code",
   "execution_count": 42,
   "metadata": {},
   "outputs": [
    {
     "name": "stdout",
     "output_type": "stream",
     "text": [
      "0.00010969999129883945\n"
     ]
    }
   ],
   "source": [
    "import time\n",
    "x=[1,3,2,5]\n",
    "st=time.perf_counter()\n",
    "x2=list(map(lambda a:a**2,x))\n",
    "x2\n",
    "et=time.perf_counter()\n",
    "print(et-st)"
   ]
  },
  {
   "cell_type": "markdown",
   "metadata": {},
   "source": [
    "## comprehension\n",
    "\n",
    "   - syntax\n",
    "\n",
    "       - new_list=[operation loop(condition)]"
   ]
  },
  {
   "cell_type": "code",
   "execution_count": 43,
   "metadata": {},
   "outputs": [
    {
     "name": "stdout",
     "output_type": "stream",
     "text": [
      "0.00011100000119768083\n"
     ]
    }
   ],
   "source": [
    "import time\n",
    "st=time.perf_counter()\n",
    "x2=[i**2 for i in x]\n",
    "x2\n",
    "et=time.perf_counter()\n",
    "print(et-st)"
   ]
  },
  {
   "cell_type": "code",
   "execution_count": 2,
   "metadata": {},
   "outputs": [
    {
     "name": "stdout",
     "output_type": "stream",
     "text": [
      "[-4, -3, -2, -1, 0]\n",
      "[4, 16]\n"
     ]
    },
    {
     "data": {
      "text/plain": [
       "[1, 9, 25]"
      ]
     },
     "execution_count": 2,
     "metadata": {},
     "output_type": "execute_result"
    }
   ],
   "source": [
    "a=[1,2,3,4,5]\n",
    "a3=[i-5 for i in a]\n",
    "print(a3)\n",
    "aven2=[i**2 for i in a if i%2==0]\n",
    "print(aven2)\n",
    "aodd2=list(map(lambda i: i**2, filter(lambda i: i%2!=0,a)))\n",
    "aodd2"
   ]
  },
  {
   "cell_type": "code",
   "execution_count": 1,
   "metadata": {},
   "outputs": [
    {
     "name": "stdout",
     "output_type": "stream",
     "text": [
      "<generator object <genexpr> at 0x0000021F1AAB2190>\n"
     ]
    },
    {
     "data": {
      "text/plain": [
       "[None]"
      ]
     },
     "execution_count": 1,
     "metadata": {},
     "output_type": "execute_result"
    }
   ],
   "source": [
    "names=['Alice Smith hello','Bob Brown','Charlie Green']\n",
    "initials=[]\n",
    "[print(f('{i[0]} i[i.find(' ')+1]') for i in names)]\n",
    "\n",
    "\n",
    " \n",
    "\n",
    "    "
   ]
  },
  {
   "cell_type": "code",
   "execution_count": 9,
   "metadata": {},
   "outputs": [
    {
     "name": "stdout",
     "output_type": "stream",
     "text": [
      "[4, 0, 0, 0, 0]\n",
      "[4, 1, 0, 0, 0]\n",
      "[4, 1, 8, 0, 0]\n",
      "[4, 1, 8, 3, 0]\n",
      "[7, 1, 8, 3, 0]\n",
      "[7, 6, 8, 3, 0]\n",
      "[7, 6, 10, 3, 0]\n",
      "[9, 6, 10, 3, 0]\n",
      "[9, 10, 10, 3, 0]\n",
      "[11, 10, 10, 3, 0]\n",
      "[11, 10, 10, 3, 0]\n"
     ]
    }
   ],
   "source": [
    "triangle = [[2],[3,4],[6,5,7],[4,1,8,3]]\n",
    "triangle[::-1]\n",
    "dp=[0]*(len(triangle)+1)\n",
    "for row in triangle[::-1]:\n",
    "    for i,n in enumerate(row):\n",
    "            \n",
    "            dp[i]=n+min(dp[i],dp[i+1])\n",
    "            print(dp)\n",
    "print(dp)"
   ]
  },
  {
   "cell_type": "code",
   "execution_count": 3,
   "metadata": {},
   "outputs": [
    {
     "data": {
      "text/plain": [
       "1"
      ]
     },
     "execution_count": 3,
     "metadata": {},
     "output_type": "execute_result"
    }
   ],
   "source": [
    "a.index(2)"
   ]
  },
  {
   "cell_type": "code",
   "execution_count": 43,
   "metadata": {},
   "outputs": [
    {
     "name": "stdout",
     "output_type": "stream",
     "text": [
      "1\n"
     ]
    }
   ],
   "source": [
    "def removeDuplicates(nums):\n",
    "        \"\"\"\n",
    "        :type nums: List[int]\n",
    "        :rtype: int\n",
    "        \"\"\"\n",
    "        i=0\n",
    "        j=0\n",
    "        length=len(nums)\n",
    "        while j<=length:\n",
    "           for i in range(length):\n",
    "              if i<length-1:\n",
    "                if nums[i]==nums[i+1]:\n",
    "                  nums.remove(nums[i])\n",
    "                  length=len(nums)\n",
    "           j+=1\n",
    "        print(length)\n",
    "          \n",
    "                \n",
    "removeDuplicates([0,0,0,0,0])"
   ]
  },
  {
   "cell_type": "code",
   "execution_count": 50,
   "metadata": {},
   "outputs": [
    {
     "name": "stdout",
     "output_type": "stream",
     "text": [
      "[1, 2]\n"
     ]
    }
   ],
   "source": [
    "num=[1,1,2]\n",
    "num=list(set(num))\n",
    "num.copy()\n",
    "print(num)"
   ]
  },
  {
   "cell_type": "code",
   "execution_count": 27,
   "metadata": {},
   "outputs": [
    {
     "data": {
      "text/plain": [
       "32.0"
      ]
     },
     "execution_count": 27,
     "metadata": {},
     "output_type": "execute_result"
    }
   ],
   "source": [
    "import math\n",
    "x=10\n",
    "x=bin(10)\n",
    "y=bin(4)\n",
    "x,y\n",
    "math.pow(2,5)"
   ]
  },
  {
   "cell_type": "code",
   "execution_count": 36,
   "metadata": {},
   "outputs": [
    {
     "data": {
      "text/plain": [
       "'0000000010'"
      ]
     },
     "execution_count": 36,
     "metadata": {},
     "output_type": "execute_result"
    },
    {
     "name": "stdout",
     "output_type": "stream",
     "text": [
      "\u001b[1;31mType:\u001b[0m        NoneType\n",
      "\u001b[1;31mString form:\u001b[0m None\n",
      "\u001b[1;31mNamespace:\u001b[0m   Python builtin\n",
      "\u001b[1;31mDocstring:\u001b[0m   <no docstring>"
     ]
    }
   ],
   "source": [
    "a=2\n",
    "b=10\n",
    "\n",
    "x=format(a,'b').zfill(b)\n",
    "None?\n",
    "\n",
    "x"
   ]
  },
  {
   "cell_type": "code",
   "execution_count": null,
   "metadata": {},
   "outputs": [],
   "source": []
  }
 ],
 "metadata": {
  "kernelspec": {
   "display_name": "base",
   "language": "python",
   "name": "python3"
  },
  "language_info": {
   "codemirror_mode": {
    "name": "ipython",
    "version": 3
   },
   "file_extension": ".py",
   "mimetype": "text/x-python",
   "name": "python",
   "nbconvert_exporter": "python",
   "pygments_lexer": "ipython3",
   "version": "3.12.3"
  }
 },
 "nbformat": 4,
 "nbformat_minor": 2
}
