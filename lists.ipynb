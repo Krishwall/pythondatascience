{
 "cells": [
  {
   "cell_type": "code",
   "execution_count": 6,
   "metadata": {},
   "outputs": [
    {
     "name": "stdout",
     "output_type": "stream",
     "text": [
      "['hello']\n",
      "['hello', 'krish']\n",
      "['hello', 'krish', 'how']\n",
      "['hello', 'krish', 'how', 'have']\n",
      "['hello', 'krish', 'how', 'have', 'you']\n",
      "['hello', 'krish', 'how', 'have', 'you', 'been?']\n"
     ]
    }
   ],
   "source": [
    "emptylist=[]\n",
    "condition='y'\n",
    "while condition=='y' :\n",
    "    s=input(\"what do you want to append to the list? : \")\n",
    "    emptylist.append(s)\n",
    "    condition=input(\"to continue press y\")\n",
    "\n",
    "print(emptylist)\n"
   ]
  },
  {
   "cell_type": "code",
   "execution_count": 15,
   "metadata": {},
   "outputs": [],
   "source": [
    "numlist=[533,53535,4,353,53,5432,2,6,4,53,0]\n",
    "find1=int(input(\"enter the no. you want to find\"))\n",
    "for i in numlist:\n",
    "    if find1==i :\n",
    "        print(f\"the no. is found in the list at pos:{numlist.index(find1)+1}\")\n",
    "        break\n"
   ]
  },
  {
   "cell_type": "code",
   "execution_count": 27,
   "metadata": {},
   "outputs": [
    {
     "name": "stdout",
     "output_type": "stream",
     "text": [
      "[]\n",
      "[]\n",
      "[]\n",
      "[]\n",
      "['helpme']\n",
      "['helpme']\n"
     ]
    }
   ],
   "source": [
    "stringlist=['dancing','singing','playing','boxing','helpme']\n",
    "mystring=[]\n",
    "for i in stringlist:\n",
    "    if i.find('ing')==-1:\n",
    "       mystring.append(i)\n",
    "    \n",
    "print(mystring)"
   ]
  },
  {
   "cell_type": "code",
   "execution_count": 33,
   "metadata": {},
   "outputs": [
    {
     "name": "stdout",
     "output_type": "stream",
     "text": [
      "[['dancing', 'singing', 'playing', 'boxing', 'helpme'], [533, 53535, 4, 353, 53, 5432, 2, 6, 4, 53, 0], ['hello', 'krish', 'how', 'have', 'you', 'been?']]\n"
     ]
    },
    {
     "data": {
      "text/plain": [
       "'singing'"
      ]
     },
     "execution_count": 33,
     "metadata": {},
     "output_type": "execute_result"
    }
   ],
   "source": [
    "nestedlist=[stringlist,numlist,emptylist]\n",
    "print(nestedlist)\n",
    "nestedlist[0][1]"
   ]
  },
  {
   "cell_type": "code",
   "execution_count": 2,
   "metadata": {},
   "outputs": [
    {
     "name": "stdout",
     "output_type": "stream",
     "text": [
      "[1, 2, 3, 7, 4, 5, 56, 6]\n",
      "net time 0.000000000000000\n"
     ]
    }
   ],
   "source": [
    "import time\n",
    "st=time.time()\n",
    "\n",
    "duplicate=[1,1,1,1,1,2,2,2,3,7,3,3,4,4,5,5,56,6,6,6]\n",
    "unique=[]\n",
    "for i in duplicate:\n",
    "  \n",
    "  while i not in unique:\n",
    "    unique.append(i)\n",
    "print(unique)\n",
    "et=time.time()\n",
    "\n",
    "print(f\"net time {et-st:.15f}\")\n"
   ]
  },
  {
   "cell_type": "code",
   "execution_count": 8,
   "metadata": {},
   "outputs": [
    {
     "name": "stdout",
     "output_type": "stream",
     "text": [
      "[6, 6, 6, 56, 5, 5, 4, 4, 3, 3, 7, 3, 2, 2, 2, 1, 1, 1, 1, 1]\n"
     ]
    }
   ],
   "source": [
    "duplicate.reverse()\n",
    "print(duplicate)\n",
    "\n"
   ]
  },
  {
   "cell_type": "code",
   "execution_count": 2,
   "metadata": {},
   "outputs": [
    {
     "name": "stdout",
     "output_type": "stream",
     "text": [
      "['h', 'e', 'l', 'l', 'o']\n",
      "['h', 'e', 'l', 'l', 'o']\n",
      "['s', 't', 'r', 'i', '1', 'n', 'g']\n",
      "['u', 'n', 'p', 'a', 'c', 'k']\n",
      "g\n",
      "['s', 't', 'r', 'i', '1', 'n']\n"
     ]
    }
   ],
   "source": [
    "d=[]\n",
    "lst=[]\n",
    "d[:]=\"hello\"\n",
    "print(d)\n",
    "lst.extend(\"hello\")\n",
    "print(lst)\n",
    "x=list(\"stri1ng\")\n",
    "print(x)\n",
    "print([*\"unpack\"]) # * unpack operator\n",
    "x[0].isalpha()\n",
    "print(x.pop())\n",
    "print (x)\n"
   ]
  }
 ],
 "metadata": {
  "kernelspec": {
   "display_name": "base",
   "language": "python",
   "name": "python3"
  },
  "language_info": {
   "codemirror_mode": {
    "name": "ipython",
    "version": 3
   },
   "file_extension": ".py",
   "mimetype": "text/x-python",
   "name": "python",
   "nbconvert_exporter": "python",
   "pygments_lexer": "ipython3",
   "version": "3.12.3"
  }
 },
 "nbformat": 4,
 "nbformat_minor": 2
}
