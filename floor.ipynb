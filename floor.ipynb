{
 "cells": [
  {
   "cell_type": "markdown",
   "metadata": {},
   "source": [
    "programming flow\n",
    " - conditinal flow\n",
    "    - if else\n",
    "    - if else else\n",
    "    - match case\n",
    "- iterative flow\n",
    "     - for loop\n",
    "     - while loop\n",
    "   "
   ]
  },
  {
   "cell_type": "code",
   "execution_count": 38,
   "metadata": {},
   "outputs": [
    {
     "name": "stdout",
     "output_type": "stream",
     "text": [
      "helo everyone\n"
     ]
    }
   ],
   "source": [
    "x='hello'\n",
    "if len(x)  >= 5 :\n",
    "    print('helo everyone')\n"
   ]
  },
  {
   "cell_type": "code",
   "execution_count": 39,
   "metadata": {},
   "outputs": [
    {
     "ename": "ValueError",
     "evalue": "invalid literal for int() with base 10: ''",
     "output_type": "error",
     "traceback": [
      "\u001b[1;31m---------------------------------------------------------------------------\u001b[0m",
      "\u001b[1;31mValueError\u001b[0m                                Traceback (most recent call last)",
      "Cell \u001b[1;32mIn[39], line 1\u001b[0m\n\u001b[1;32m----> 1\u001b[0m a\u001b[38;5;241m=\u001b[39m\u001b[38;5;28mint\u001b[39m(\u001b[38;5;28minput\u001b[39m(\u001b[38;5;124m'\u001b[39m\u001b[38;5;124mEnter a no.\u001b[39m\u001b[38;5;124m'\u001b[39m))\n\u001b[0;32m      2\u001b[0m \u001b[38;5;28;01mif\u001b[39;00m a\u001b[38;5;241m*\u001b[39m\u001b[38;5;241m2\u001b[39m\u001b[38;5;241m>\u001b[39m\u001b[38;5;241m100\u001b[39m:\n\u001b[0;32m      3\u001b[0m     \u001b[38;5;28mprint\u001b[39m(\u001b[38;5;124m'\u001b[39m\u001b[38;5;124m a*2 is greater than 100\u001b[39m\u001b[38;5;124m'\u001b[39m)\n",
      "\u001b[1;31mValueError\u001b[0m: invalid literal for int() with base 10: ''"
     ]
    }
   ],
   "source": [
    "a=int(input('Enter a no.'))\n",
    "if a*2>100:\n",
    "    print(' a*2 is greater than 100')\n",
    "if a+50 > 100:\n",
    "    print('a+50 is greater than 100')\n"
   ]
  },
  {
   "cell_type": "code",
   "execution_count": null,
   "metadata": {},
   "outputs": [
    {
     "name": "stdout",
     "output_type": "stream",
     "text": [
      "odd\n"
     ]
    }
   ],
   "source": [
    "a=int(input('Enter a no.'))\n",
    "if a%2 ==0:\n",
    "    print(' even')\n",
    "else:\n",
    "    print('odd')\n"
   ]
  },
  {
   "cell_type": "markdown",
   "metadata": {},
   "source": [
    "wap to find the total salary of the employee bsaed on the following criteria\n",
    "hra= 5%\n",
    "da =3.3%\n",
    "ta=2.61%\n",
    " \n",
    " total=salary +da+ ta +hra\n",
    "\n",
    " *rule*\n",
    "  \n",
    " if hra is less than 1000 then don't add hra to total\n",
    " "
   ]
  },
  {
   "cell_type": "code",
   "execution_count": null,
   "metadata": {},
   "outputs": [
    {
     "name": "stdout",
     "output_type": "stream",
     "text": [
      "THE TOTAL SALARY IS = 63856.43\n"
     ]
    }
   ],
   "source": [
    "salary=int(input('ENTER THE SALARY'))\n",
    "hra= salary*0.05\n",
    "da=salary*0.033\n",
    "ta=0.0261*salary\n",
    "if hra<1000 :\n",
    "    total=salary+da+ta\n",
    "else :\n",
    "      total=salary+da+ta+hra\n",
    "print(\"THE TOTAL SALARY IS = %.2f\"%(total))\n",
    "\n",
    "    \n"
   ]
  },
  {
   "cell_type": "code",
   "execution_count": null,
   "metadata": {},
   "outputs": [
    {
     "name": "stdout",
     "output_type": "stream",
     "text": [
      "Rating not accepted in anything except no.\n"
     ]
    }
   ],
   "source": [
    "\n",
    "num_str=input('enter movie rating')\n",
    "if num_str.isnumeric():\n",
    "    num=int(num_str)\n",
    "    if num==1:\n",
    "        print('(⭐TERRIBLE)')\n",
    "    elif num==2:\n",
    "        print('⭐⭐bad')\n",
    "    elif num==3:\n",
    "        print('⭐⭐⭐average')\n",
    "    elif num==4:\n",
    "        print('⭐⭐⭐⭐good')\n",
    "    elif num==5:\n",
    "        print('⭐⭐⭐⭐⭐ excellent')\n",
    "    else :\n",
    "        print('invalid rating')\n",
    "else:\n",
    "    print(\"Rating not accepted in anything except no.\")"
   ]
  },
  {
   "cell_type": "code",
   "execution_count": null,
   "metadata": {},
   "outputs": [
    {
     "name": "stdout",
     "output_type": "stream",
     "text": [
      "Invalid day \n"
     ]
    }
   ],
   "source": [
    " # Match case - use this to match multiple values\n",
    "day= (input('Enter a day of the week')).upper()\n",
    "match day:\n",
    "    case 'MONDAY'|'TUESDAY'|'WEDNESDAY':\n",
    "        print('Data science and data analysis class')\n",
    "    case 'THURSDAY':\n",
    "        print('class off')\n",
    "    case 'SUNDAY':\n",
    "        print('WeEkEnd')\n",
    "    case 'TUESDAY':\n",
    "        print('Stay at home')\n",
    "    case _: #default case\n",
    "         print('Invalid day ')  \n",
    "        \n"
   ]
  },
  {
   "cell_type": "markdown",
   "metadata": {},
   "source": [
    "# SINGLE LINE CONDITIONS"
   ]
  },
  {
   "cell_type": "code",
   "execution_count": null,
   "metadata": {},
   "outputs": [
    {
     "data": {
      "text/plain": [
       "'above100'"
      ]
     },
     "execution_count": 20,
     "metadata": {},
     "output_type": "execute_result"
    }
   ],
   "source": [
    "x=int(input('enter a number'))\n",
    "\"above100\" if x>100 else print (\"below 100 \")"
   ]
  },
  {
   "cell_type": "markdown",
   "metadata": {},
   "source": [
    "#### for loop\n",
    "- step based\n",
    "for var in iterable:\n",
    "  statement ___\n",
    "\n",
    "#### while loop\n",
    "- condition based\n"
   ]
  },
  {
   "cell_type": "code",
   "execution_count": null,
   "metadata": {},
   "outputs": [
    {
     "name": "stdout",
     "output_type": "stream",
     "text": [
      "k\n",
      "r\n",
      "i\n",
      "s\n",
      "h\n"
     ]
    }
   ],
   "source": [
    "for v in 'krish':\n",
    "    print(v) "
   ]
  },
  {
   "cell_type": "code",
   "execution_count": null,
   "metadata": {},
   "outputs": [
    {
     "name": "stdout",
     "output_type": "stream",
     "text": [
      "red\n",
      "green\n",
      "blue\n"
     ]
    }
   ],
   "source": [
    "colours=['red','green','blue']\n",
    "for i in colours:\n",
    "    print (i)"
   ]
  },
  {
   "cell_type": "code",
   "execution_count": null,
   "metadata": {},
   "outputs": [
    {
     "name": "stdout",
     "output_type": "stream",
     "text": [
      "0 red\n",
      "1 green\n",
      "2 blue\n"
     ]
    }
   ],
   "source": [
    "# index and value\n",
    "for i,v in enumerate(colours):\n",
    "     print(i,v)"
   ]
  },
  {
   "cell_type": "code",
   "execution_count": null,
   "metadata": {},
   "outputs": [
    {
     "name": "stdout",
     "output_type": "stream",
     "text": [
      "35    => 350\n",
      "3     => 30\n",
      "5     => 50\n",
      "53    => 530\n",
      "535   => 5350\n",
      "56    => 560\n"
     ]
    }
   ],
   "source": [
    "nmlist={56,53,35,3,535,3,5,3}\n",
    "for num in nmlist:\n",
    "     print(f'{num:<5} => {num*10}')"
   ]
  },
  {
   "cell_type": "markdown",
   "metadata": {},
   "source": []
  },
  {
   "cell_type": "code",
   "execution_count": 37,
   "metadata": {},
   "outputs": [
    {
     "name": "stdout",
     "output_type": "stream",
     "text": [
      "13*1=56\n",
      "13*2=112\n",
      "13*3=168\n",
      "13*4=224\n",
      "13*5=280\n",
      "13*6=336\n",
      "13*7=392\n",
      "13*8=448\n",
      "13*9=504\n",
      "13*10=560\n",
      "13*11=616\n"
     ]
    }
   ],
   "source": [
    "\n",
    "for i in range(1,12): #  range(a,b,c)  starts with a update of c\n",
    "    print(f'{13}*{i}={num*i}')"
   ]
  },
  {
   "cell_type": "code",
   "execution_count": 46,
   "metadata": {},
   "outputs": [
    {
     "name": "stdout",
     "output_type": "stream",
     "text": [
      "1\n",
      "3\n",
      "5\n",
      "7\n",
      "9\n",
      "11\n",
      "13\n",
      "15\n",
      "17\n",
      "19\n",
      "21\n",
      "23\n",
      "25\n",
      "27\n",
      "29\n",
      "31\n",
      "33\n",
      "35\n",
      "37\n",
      "39\n",
      "41\n",
      "43\n",
      "45\n",
      "47\n",
      "49\n",
      "51\n",
      "53\n",
      "55\n",
      "57\n",
      "59\n",
      "61\n",
      "63\n",
      "65\n",
      "67\n",
      "69\n",
      "71\n",
      "73\n",
      "75\n",
      "77\n",
      "79\n",
      "81\n",
      "83\n",
      "85\n",
      "87\n",
      "89\n",
      "91\n",
      "93\n",
      "95\n",
      "97\n",
      "99\n"
     ]
    }
   ],
   "source": [
    "for i in range(1,101,2):\n",
    " print(i)"
   ]
  },
  {
   "cell_type": "code",
   "execution_count": 43,
   "metadata": {},
   "outputs": [
    {
     "name": "stdout",
     "output_type": "stream",
     "text": [
      "10\n",
      "9\n",
      "8\n",
      "7\n",
      "6\n",
      "5\n",
      "4\n",
      "3\n",
      "2\n",
      "1\n"
     ]
    }
   ],
   "source": [
    "for i in range(10,0,-1):\n",
    "    print(i)"
   ]
  },
  {
   "cell_type": "markdown",
   "metadata": {},
   "source": [
    "- nested\n",
    "- break and continue\n",
    "- for- else\n"
   ]
  },
  {
   "cell_type": "code",
   "execution_count": 8,
   "metadata": {},
   "outputs": [
    {
     "name": "stdout",
     "output_type": "stream",
     "text": [
      "1 1,1 2,1 3,\n",
      "2 1,2 2,2 3,\n",
      "3 1,3 2,3 3,\n",
      "4 1,4 2,4 3,\n",
      "5 1,5 2,5 3,\n",
      "6 1,6 2,6 3,\n",
      "7 1,7 2,7 3,\n",
      "8 1,8 2,8 3,\n",
      "9 1,9 2,9 3,\n",
      "10 1,10 2,10 3,\n"
     ]
    }
   ],
   "source": [
    "for i in range(1,11):\n",
    "    for j in range(1,4):\n",
    "        print(i,j,end=\",\")\n",
    "    print()\n"
   ]
  },
  {
   "cell_type": "code",
   "execution_count": 11,
   "metadata": {},
   "outputs": [
    {
     "name": "stdout",
     "output_type": "stream",
     "text": [
      "1    John    23    \n",
      "2    papa    25    \n",
      "3    wendy    747    waiter    \n"
     ]
    }
   ],
   "source": [
    "cdata=[[1,'John',23],\n",
    "       [2,'papa',25],\n",
    "       [3,'wendy',747,'waiter']]\n",
    "for row in cdata:\n",
    "    for item in row:\n",
    "        print(item,end=\"    \")\n",
    "    print()\n"
   ]
  },
  {
   "cell_type": "code",
   "execution_count": 27,
   "metadata": {},
   "outputs": [
    {
     "name": "stdout",
     "output_type": "stream",
     "text": [
      "12 45 67 \n",
      "23 43 44 \n",
      "35 35 352 \n",
      "\n",
      "23 24 24 \n",
      "24 442 24 \n",
      "\n"
     ]
    }
   ],
   "source": [
    "more_data=[\n",
    "    [[12,45,67],[23,43,44],[35,35,352]],\n",
    "    [[23,24,24],[24,442,24]],\n",
    "]\n",
    "\n",
    "for i in more_data:\n",
    "    for j in i:\n",
    "        for k in j:\n",
    "            print(k,end=\" \")\n",
    "        print()\n",
    "    print()\n",
    " \n",
    "\n",
    "\n",
    "\n",
    "    "
   ]
  },
  {
   "cell_type": "code",
   "execution_count": 3,
   "metadata": {},
   "outputs": [
    {
     "name": "stdout",
     "output_type": "stream",
     "text": [
      "1\n",
      "3\n",
      "13\n",
      "42\n",
      "52\n",
      "2\n",
      "5\n",
      "53\n",
      "53\n",
      "53\n",
      "53\n",
      "loop executed\n"
     ]
    }
   ],
   "source": [
    "x=[1,3,13,42,52,2,5,53,53,53,53]\n",
    "for i in x:\n",
    "     if i<0:\n",
    "       break\n",
    "     print(i)\n",
    "print('loop executed')\n"
   ]
  },
  {
   "cell_type": "code",
   "execution_count": 45,
   "metadata": {},
   "outputs": [
    {
     "name": "stdout",
     "output_type": "stream",
     "text": [
      "1 2 3 4 5 6 7 8 33 \n",
      "alternate nos.\n",
      "1 2 3 4 5 6 7 8 33 "
     ]
    }
   ],
   "source": [
    "data_with_crap=[1,2,3,4,5,6,'3','35',7,8,33,'53']\n",
    "for i in data_with_crap:\n",
    "    if isinstance(i,str):\n",
    "        continue\n",
    "    print(i,end=' ')\n",
    "\n",
    "print()\n",
    "############### alternative ###########\n",
    "print('alternate nos.')\n",
    "for i in data_with_crap:\n",
    "    if isinstance(i,int):\n",
    "      print(i,end=' ')"
   ]
  },
  {
   "cell_type": "code",
   "execution_count": 51,
   "metadata": {},
   "outputs": [
    {
     "name": "stdout",
     "output_type": "stream",
     "text": [
      "1\n",
      "2\n",
      "3\n",
      "4\n",
      "5\n",
      "6\n",
      "loop stopped at : 7\n"
     ]
    }
   ],
   "source": [
    "# adding  a check for loop completion\n",
    "data=[1,2,3,4,5,6,7,8,9]\n",
    "stop_val=int(input('enter the end value'))\n",
    "counter =0\n",
    "for i in data:\n",
    "    if stop_val==i:\n",
    "        print(f\"loop stopped at : {i}\")\n",
    "        break\n",
    "    print(i)\n",
    "else:\n",
    "    print(\"loop completed all steps\")\n",
    "\n",
    "\n",
    "\n"
   ]
  },
  {
   "cell_type": "markdown",
   "metadata": {},
   "source": [
    "while loop\n"
   ]
  },
  {
   "cell_type": "code",
   "execution_count": 1,
   "metadata": {},
   "outputs": [
    {
     "name": "stdout",
     "output_type": "stream",
     "text": [
      "10\n",
      "9\n",
      "8\n",
      "7\n",
      "6\n",
      "5\n",
      "4\n",
      "3\n",
      "2\n",
      "1\n"
     ]
    }
   ],
   "source": [
    "i=10\n",
    "while i>0:\n",
    "    print(i)\n",
    "    i-=1\n",
    "    "
   ]
  },
  {
   "cell_type": "code",
   "execution_count": 9,
   "metadata": {},
   "outputs": [
    {
     "name": "stdout",
     "output_type": "stream",
     "text": [
      "30\n"
     ]
    }
   ],
   "source": [
    "# sum of all digits\n",
    "num=int(input(\"enter a no.\"))\n",
    "sum1=0\n",
    "\n",
    "n=num\n",
    "while(n!=0) :\n",
    "    sum1=sum1+n%10\n",
    "    n//=10\n",
    "print(sum)\n",
    "\n",
    "\n",
    "\n"
   ]
  },
  {
   "cell_type": "code",
   "execution_count": 10,
   "metadata": {},
   "outputs": [],
   "source": [
    "print=('hi')\n",
    "sum=20\n",
    "del sum # delete thhe variable sum since it is already a method\n",
    "del print # delete thhe variable print since it is already a method\n"
   ]
  }
 ],
 "metadata": {
  "kernelspec": {
   "display_name": "base",
   "language": "python",
   "name": "python3"
  },
  "language_info": {
   "codemirror_mode": {
    "name": "ipython",
    "version": 3
   },
   "file_extension": ".py",
   "mimetype": "text/x-python",
   "name": "python",
   "nbconvert_exporter": "python",
   "pygments_lexer": "ipython3",
   "version": "3.12.3"
  }
 },
 "nbformat": 4,
 "nbformat_minor": 2
}
