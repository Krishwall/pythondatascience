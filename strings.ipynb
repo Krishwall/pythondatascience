{
 "cells": [
  {
   "cell_type": "markdown",
   "metadata": {},
   "source": [
    "- creating\n",
    "- indexing and slicing\n",
    "- methods\n",
    "- tips and tricks\n",
    "\n"
   ]
  },
  {
   "cell_type": "code",
   "execution_count": 1,
   "metadata": {},
   "outputs": [
    {
     "name": "stdout",
     "output_type": "stream",
     "text": [
      "this is a\n",
      "very useful \n",
      "in multiline m\n",
      "essages\n"
     ]
    }
   ],
   "source": [
    "a='apple'\n",
    "b=\"apple\"\n",
    "c ='''this is a\n",
    "very useful \n",
    "in multiline m\n",
    "essages'''\n",
    "print(c)\n",
    "\n"
   ]
  },
  {
   "cell_type": "code",
   "execution_count": 10,
   "metadata": {},
   "outputs": [
    {
     "name": "stdout",
     "output_type": "stream",
     "text": [
      "apple is a fruit\n",
      "c:\\users\\krish\\desktop\n",
      "hello\n",
      "b'hello'\n"
     ]
    }
   ],
   "source": [
    "# type of strings\n",
    "# f-string\n",
    "x= f'{a} is a fruit'\n",
    "print (x)\n",
    "# raw string\n",
    "addr=r'c:\\users\\krish\\desktop'\n",
    "print(addr)\n",
    "# unicode string\n",
    "uni=u'hello'\n",
    "print(uni)\n",
    "# byte string\n",
    "byt=b'hello'\n",
    "print(byt)\n"
   ]
  },
  {
   "cell_type": "code",
   "execution_count": 12,
   "metadata": {},
   "outputs": [
    {
     "name": "stdout",
     "output_type": "stream",
     "text": [
      "e\n",
      "n\n",
      "c\n",
      "a\n",
      "p\n"
     ]
    }
   ],
   "source": [
    "v='encyclopedia'\n",
    "print(v[0])\n",
    "print(v[1])\n",
    "print(v[2])\n",
    "print(v[11])\n",
    "print(v[-5])\n",
    "\n"
   ]
  },
  {
   "cell_type": "markdown",
   "metadata": {},
   "source": [
    "slicing in python\n",
    "x[start :stop]\n"
   ]
  },
  {
   "cell_type": "code",
   "execution_count": 1,
   "metadata": {},
   "outputs": [
    {
     "name": "stdout",
     "output_type": "stream",
     "text": [
      "12\n",
      "cyclop\n"
     ]
    }
   ],
   "source": [
    "a='Encyclopedia'\n",
    "print(len(a))\n",
    "print(a[2:8])\n"
   ]
  },
  {
   "cell_type": "code",
   "execution_count": 2,
   "metadata": {},
   "outputs": [
    {
     "name": "stdout",
     "output_type": "stream",
     "text": [
      "Don \n",
      "Vito \n",
      "Corleone"
     ]
    }
   ],
   "source": [
    "name='Don Vito Corleone'\n",
    "for i in name:\n",
    "    print(i,end=\"\")\n",
    "    if(i.isspace()):\n",
    "        print()\n",
    "        "
   ]
  },
  {
   "cell_type": "code",
   "execution_count": 2,
   "metadata": {},
   "outputs": [
    {
     "name": "stdout",
     "output_type": "stream",
     "text": [
      "Don\n",
      "Vito\n",
      "Corleone\n"
     ]
    }
   ],
   "source": [
    "name='Don Vito Corleone'\n",
    "firstname=name[0:3]\n",
    "print(firstname)\n",
    "middlename=name[4:8]\n",
    "print(middlename)\n",
    "lastname=name[9:]\n",
    "print(lastname)"
   ]
  },
  {
   "cell_type": "code",
   "execution_count": 8,
   "metadata": {},
   "outputs": [
    {
     "data": {
      "text/plain": [
       "'destination'"
      ]
     },
     "execution_count": 8,
     "metadata": {},
     "output_type": "execute_result"
    }
   ],
   "source": [
    "msg=\"Journey before destination\"\n",
    "msg[-11:]"
   ]
  },
  {
   "cell_type": "code",
   "execution_count": 22,
   "metadata": {},
   "outputs": [
    {
     "data": {
      "text/plain": [
       "'once upon a time'"
      ]
     },
     "execution_count": 22,
     "metadata": {},
     "output_type": "execute_result"
    }
   ],
   "source": [
    "msg='once upon a time, there was a place called eternia'\n",
    "msg[:16]"
   ]
  },
  {
   "cell_type": "code",
   "execution_count": 15,
   "metadata": {},
   "outputs": [
    {
     "name": "stdout",
     "output_type": "stream",
     "text": [
      "800999\n"
     ]
    },
    {
     "data": {
      "text/plain": [
       "int"
      ]
     },
     "execution_count": 15,
     "metadata": {},
     "output_type": "execute_result"
    }
   ],
   "source": [
    "amt='$800999'\n",
    "amt=int(amt[1:])\n",
    "print (amt)\n",
    "type(amt)"
   ]
  },
  {
   "cell_type": "code",
   "execution_count": 17,
   "metadata": {},
   "outputs": [
    {
     "data": {
      "text/plain": [
       "'oc pnatm,teewsapaecle tras'"
      ]
     },
     "execution_count": 17,
     "metadata": {},
     "output_type": "execute_result"
    }
   ],
   "source": [
    "msg[::2] #every second index(even)"
   ]
  },
  {
   "cell_type": "code",
   "execution_count": 18,
   "metadata": {},
   "outputs": [
    {
     "data": {
      "text/plain": [
       "'neuo  ie hr a  lc aldeenl'"
      ]
     },
     "execution_count": 18,
     "metadata": {},
     "output_type": "execute_result"
    }
   ],
   "source": [
    "msg[1::2]"
   ]
  },
  {
   "cell_type": "code",
   "execution_count": 20,
   "metadata": {},
   "outputs": [
    {
     "data": {
      "text/plain": [
       "'slanrete dellac ecalp a saw ereht ,emit a nopu ecno'"
      ]
     },
     "execution_count": 20,
     "metadata": {},
     "output_type": "execute_result"
    }
   ],
   "source": [
    "# most OP thing in slicing\n",
    "msg[::-1]  #Reverse string"
   ]
  },
  {
   "cell_type": "code",
   "execution_count": 23,
   "metadata": {},
   "outputs": [
    {
     "data": {
      "text/plain": [
       "'ainre'"
      ]
     },
     "execution_count": 23,
     "metadata": {},
     "output_type": "execute_result"
    }
   ],
   "source": [
    "msg[::-1][:5]"
   ]
  },
  {
   "cell_type": "code",
   "execution_count": 24,
   "metadata": {},
   "outputs": [
    {
     "data": {
      "text/plain": [
       "'otiV'"
      ]
     },
     "execution_count": 24,
     "metadata": {},
     "output_type": "execute_result"
    }
   ],
   "source": [
    "name[4:8][::-1]"
   ]
  },
  {
   "cell_type": "markdown",
   "metadata": {},
   "source": [
    "string methods\n",
    "- formatting\n",
    "- validation\n",
    "- find & replace\n",
    "- etc."
   ]
  },
  {
   "cell_type": "code",
   "execution_count": 4,
   "metadata": {},
   "outputs": [
    {
     "name": "stdout",
     "output_type": "stream",
     "text": [
      "All the glitters are not Gold\n",
      "ALL THE GLITTERS ARE NOT GOLD\n",
      "all the glitters are not gold\n",
      "aLL THE GLITTERS ARE NOT gOLD\n",
      "All The Glitters Are Not Gold\n",
      "All the glitters are not gold\n",
      "all the glitters are not gold\n"
     ]
    }
   ],
   "source": [
    "quote=\"All the glitters are not Gold\"\n",
    "quote_upper=quote.upper()\n",
    "print(quote)\n",
    "print(quote_upper)\n",
    "quote_lower=quote.lower()\n",
    "print(quote_lower)\n",
    "quote_swap=quote.swapcase()\n",
    "print(quote_swap)\n",
    "quote_title=quote.title()\n",
    "print(quote_title)\n",
    "quote_capitalize=quote.capitalize()\n",
    "\n",
    "print(quote_capitalize)\n",
    "quote_fold=quote.casefold()\n",
    "print(quote_fold)\n",
    "\n"
   ]
  },
  {
   "cell_type": "code",
   "execution_count": 5,
   "metadata": {},
   "outputs": [
    {
     "data": {
      "text/plain": [
       "'___________All the glitters are not Gold'"
      ]
     },
     "execution_count": 5,
     "metadata": {},
     "output_type": "execute_result"
    }
   ],
   "source": [
    "quote.ljust(40,\"-\")\n",
    "quote.rjust(40,\"_\")\n",
    "\n"
   ]
  },
  {
   "cell_type": "code",
   "execution_count": 48,
   "metadata": {},
   "outputs": [
    {
     "data": {
      "text/plain": [
       "'----------All the glitters are not Gold-----------'"
      ]
     },
     "execution_count": 48,
     "metadata": {},
     "output_type": "execute_result"
    }
   ],
   "source": [
    "quote.center(50,'-')"
   ]
  },
  {
   "cell_type": "code",
   "execution_count": 49,
   "metadata": {},
   "outputs": [
    {
     "name": "stdout",
     "output_type": "stream",
     "text": [
      "what kind of name is this?\n"
     ]
    }
   ],
   "source": [
    "fname=input(\"enter ur name :(dont use numbers)\")\n",
    "if fname.isalpha():\n",
    "    print(\"valid name,very good\")\n",
    "else :\n",
    "    print(\"what kind of name is this?\")"
   ]
  },
  {
   "cell_type": "code",
   "execution_count": 50,
   "metadata": {},
   "outputs": [
    {
     "data": {
      "text/plain": [
       "30"
      ]
     },
     "execution_count": 50,
     "metadata": {},
     "output_type": "execute_result"
    }
   ],
   "source": [
    "# find and index methods for searching in strings\n",
    "msg.find('place') # returns the index of the first occurence of the substring"
   ]
  },
  {
   "cell_type": "code",
   "execution_count": 2,
   "metadata": {},
   "outputs": [
    {
     "name": "stdout",
     "output_type": "stream",
     "text": [
      "12\n",
      "39\n",
      "-1\n",
      "73\n"
     ]
    },
    {
     "ename": "AttributeError",
     "evalue": "'str' object has no attribute 'lfind'",
     "output_type": "error",
     "traceback": [
      "\u001b[1;31m---------------------------------------------------------------------------\u001b[0m",
      "\u001b[1;31mAttributeError\u001b[0m                            Traceback (most recent call last)",
      "Cell \u001b[1;32mIn[2], line 9\u001b[0m\n\u001b[0;32m      7\u001b[0m \u001b[38;5;28mprint\u001b[39m(data\u001b[38;5;241m.\u001b[39mfind(\u001b[38;5;124m'\u001b[39m\u001b[38;5;124mPlace\u001b[39m\u001b[38;5;124m'\u001b[39m)) \u001b[38;5;66;03m# -1 means not found\u001b[39;00m\n\u001b[0;32m      8\u001b[0m \u001b[38;5;28mprint\u001b[39m(data\u001b[38;5;241m.\u001b[39mrfind(\u001b[38;5;124m'\u001b[39m\u001b[38;5;124mplace\u001b[39m\u001b[38;5;124m'\u001b[39m))\n\u001b[1;32m----> 9\u001b[0m data\u001b[38;5;241m.\u001b[39mlfind(\u001b[38;5;124m'\u001b[39m\u001b[38;5;124mplace\u001b[39m\u001b[38;5;124m'\u001b[39m)\n",
      "\u001b[1;31mAttributeError\u001b[0m: 'str' object has no attribute 'lfind'"
     ]
    }
   ],
   "source": [
    "data='''Roshar is a place of magic and wonder,\n",
    "place of knights and kings.\n",
    "Its a place of highstorms and shardblades\n",
    "print'''\n",
    "print(data.find('place'))\n",
    "print(data.find('place',13))\n",
    "print(data.find('Place')) # -1 means not found\n",
    "print(data.rfind('place'))\n",
    "data.rfi"
   ]
  },
  {
   "cell_type": "code",
   "execution_count": 56,
   "metadata": {},
   "outputs": [
    {
     "data": {
      "text/plain": [
       "'Roshar is a world of magic and wonder,\\nworld of knights and kings.\\nIts a world of highstorms and shardblades\\nprint'"
      ]
     },
     "execution_count": 56,
     "metadata": {},
     "output_type": "execute_result"
    }
   ],
   "source": [
    "data.replace('place','world',)"
   ]
  },
  {
   "cell_type": "code",
   "execution_count": 62,
   "metadata": {},
   "outputs": [
    {
     "data": {
      "text/plain": [
       "'Rashar is a place af magic and wander,\\nplace of knights and kings.\\nIts a place of highstorms and shardblades\\nprint'"
      ]
     },
     "execution_count": 62,
     "metadata": {},
     "output_type": "execute_result"
    }
   ],
   "source": [
    "data.replace('o','a')"
   ]
  },
  {
   "cell_type": "code",
   "execution_count": 61,
   "metadata": {},
   "outputs": [
    {
     "data": {
      "text/plain": [
       "'Roshbr es b plbce of mbgec bnd wonder,\\nplbce of cneghts bnd cengs.\\nIts b plbce of heghstorms bnd shbrdblbdes\\nprent'"
      ]
     },
     "execution_count": 61,
     "metadata": {},
     "output_type": "execute_result"
    }
   ],
   "source": [
    "data.replace('i','e').replace('k','c').replace('a','b')"
   ]
  },
  {
   "cell_type": "code",
   "execution_count": 65,
   "metadata": {},
   "outputs": [
    {
     "data": {
      "text/plain": [
       "'Roshar_is_a_place of magic and wonder,\\nplace of knights and kings.\\nIts a place of highstorms and shardblades\\nprint'"
      ]
     },
     "execution_count": 65,
     "metadata": {},
     "output_type": "execute_result"
    }
   ],
   "source": [
    "data.replace(' ','_',3) # no. of replacements\n"
   ]
  },
  {
   "cell_type": "code",
   "execution_count": 3,
   "metadata": {},
   "outputs": [
    {
     "name": "stdout",
     "output_type": "stream",
     "text": [
      "19\n",
      "apple banana durian\n",
      "apple banana durian\n",
      "['apple', 'banana', 'durian']\n"
     ]
    }
   ],
   "source": [
    "fruits=input(\"enter names of fruits\")\n",
    "print(len(fruits))\n",
    "print(fruits)\n",
    "fruitlist=fruits.split()\n",
    "print(fruits.strip())\n",
    "\n",
    "print(fruitlist)"
   ]
  },
  {
   "cell_type": "code",
   "execution_count": 4,
   "metadata": {},
   "outputs": [
    {
     "data": {
      "text/plain": [
       "['this', 'is', 'a', 'message']"
      ]
     },
     "execution_count": 4,
     "metadata": {},
     "output_type": "execute_result"
    }
   ],
   "source": [
    "\"this is a message\".split()"
   ]
  },
  {
   "cell_type": "code",
   "execution_count": 5,
   "metadata": {},
   "outputs": [
    {
     "data": {
      "text/plain": [
       "['Life before death',\n",
       " ' strength before weakness',\n",
       " ' journey before destination']"
      ]
     },
     "execution_count": 5,
     "metadata": {},
     "output_type": "execute_result"
    }
   ],
   "source": [
    "quote=\"Life before death, strength before weakness, journey before destination\"\n",
    "quote.split(',')"
   ]
  },
  {
   "cell_type": "code",
   "execution_count": 6,
   "metadata": {},
   "outputs": [
    {
     "data": {
      "text/plain": [
       "['Life ', ' death, strength ', ' weakness, journey ', ' destination']"
      ]
     },
     "execution_count": 6,
     "metadata": {},
     "output_type": "execute_result"
    }
   ],
   "source": [
    "quote.split('before')"
   ]
  },
  {
   "cell_type": "code",
   "execution_count": 7,
   "metadata": {},
   "outputs": [
    {
     "data": {
      "text/plain": [
       "[' Johnny Johnny,yes papa',\n",
       " 'eating sugar? no papa',\n",
       " 'telling lies? no papa',\n",
       " 'open your mouth,ha ha ha']"
      ]
     },
     "execution_count": 7,
     "metadata": {},
     "output_type": "execute_result"
    }
   ],
   "source": [
    "poem=''' Johnny Johnny,yes papa\n",
    "eating sugar? no papa\n",
    "telling lies? no papa\n",
    "open your mouth,ha ha ha\n",
    "'''\n",
    "poem.splitlines()"
   ]
  },
  {
   "cell_type": "code",
   "execution_count": 9,
   "metadata": {},
   "outputs": [
    {
     "data": {
      "text/plain": [
       "'c:/users/krish/desktop/file.txt'"
      ]
     },
     "execution_count": 9,
     "metadata": {},
     "output_type": "execute_result"
    }
   ],
   "source": [
    "addr=['c:','users','krish','desktop','file.txt']\n",
    "\"/\".join(addr)"
   ]
  },
  {
   "cell_type": "code",
   "execution_count": 13,
   "metadata": {},
   "outputs": [
    {
     "name": "stdout",
     "output_type": "stream",
     "text": [
      "['ybtvbvy', '464', '66', '46']\n",
      "img_ybtvbvy_464_66_46.jpg\n"
     ]
    }
   ],
   "source": [
    "data=input(\"enter your name,month and year of birth seperated by commas: \")\n",
    "words=data.split(',')\n",
    "print(words)\n",
    "name=\"_\".join(words)\n",
    "print(f'img_{name}.jpg')"
   ]
  },
  {
   "cell_type": "code",
   "execution_count": 14,
   "metadata": {},
   "outputs": [],
   "source": [
    "#1\n",
    "string1=input(\"Enter a string\")\n"
   ]
  },
  {
   "cell_type": "code",
   "execution_count": 15,
   "metadata": {},
   "outputs": [
    {
     "name": "stdout",
     "output_type": "stream",
     "text": [
      "18\n"
     ]
    }
   ],
   "source": [
    "print(len(string1))"
   ]
  },
  {
   "cell_type": "code",
   "execution_count": 20,
   "metadata": {},
   "outputs": [
    {
     "name": "stdout",
     "output_type": "stream",
     "text": [
      "['Python', 'is', 'great']\n",
      "great\n"
     ]
    }
   ],
   "source": [
    "#3\n",
    "word=\"Python is great\"\n",
    "word=word.split()\n",
    "print(word)\n",
    "print(word[-1])"
   ]
  },
  {
   "cell_type": "code",
   "execution_count": 42,
   "metadata": {},
   "outputs": [
    {
     "name": "stdout",
     "output_type": "stream",
     "text": [
      "python \n",
      " is \n",
      " everywhere\n"
     ]
    }
   ],
   "source": [
    "#4\n",
    "s=\"python is everywhere\"\n",
    "s=s.split()\n",
    "print(s[0],'\\n',s[1],'\\n',s[2])\n"
   ]
  },
  {
   "cell_type": "code",
   "execution_count": 39,
   "metadata": {},
   "outputs": [
    {
     "data": {
      "text/plain": [
       "'!dlroW olleH'"
      ]
     },
     "execution_count": 39,
     "metadata": {},
     "output_type": "execute_result"
    }
   ],
   "source": [
    "#5\n",
    "string2='Hello World!'\n",
    "string2[::-1]\n",
    "\n",
    "\n"
   ]
  },
  {
   "cell_type": "code",
   "execution_count": 28,
   "metadata": {},
   "outputs": [
    {
     "name": "stdout",
     "output_type": "stream",
     "text": [
      "HOW ARE YOU?\n"
     ]
    }
   ],
   "source": [
    "#6\n",
    "print(\"How are YOu?\".upper())"
   ]
  },
  {
   "cell_type": "code",
   "execution_count": 29,
   "metadata": {},
   "outputs": [
    {
     "name": "stdout",
     "output_type": "stream",
     "text": [
      "how is it going?\n"
     ]
    }
   ],
   "source": [
    "#7\n",
    "print(\"How is it going?\".lower())"
   ]
  },
  {
   "cell_type": "code",
   "execution_count": 30,
   "metadata": {},
   "outputs": [
    {
     "name": "stdout",
     "output_type": "stream",
     "text": [
      "Python is easy to learn\n"
     ]
    }
   ],
   "source": [
    "#8\n",
    "words=[\"Python\",\"is\",\"easy\",\"to\",\"learn\"]\n",
    "print(\" \".join(words))"
   ]
  },
  {
   "cell_type": "code",
   "execution_count": 34,
   "metadata": {},
   "outputs": [
    {
     "name": "stdout",
     "output_type": "stream",
     "text": [
      "how are you?\n",
      "i hope you are doing well.\n",
      "May this plesant day bring enormous wealth\n"
     ]
    }
   ],
   "source": [
    "#9\n",
    "multistring='''how are you?\n",
    "i hope you are doing well.\n",
    "May this plesant day bring enormous wealth'''\n",
    "print(multistring)"
   ]
  },
  {
   "cell_type": "code",
   "execution_count": 5,
   "metadata": {},
   "outputs": [
    {
     "name": "stdout",
     "output_type": "stream",
     "text": [
      "to move to newline \\n is used\n",
      "to move to newline \\n is used\n"
     ]
    }
   ],
   "source": [
    "#10\n",
    "print(\"to move to newline \\\\n is used\")\n",
    "print(r\"to move to newline \\n is used\")\n"
   ]
  },
  {
   "cell_type": "code",
   "execution_count": 46,
   "metadata": {},
   "outputs": [
    {
     "name": "stdout",
     "output_type": "stream",
     "text": [
      "before occurs 3 times \n"
     ]
    }
   ],
   "source": [
    "# count method\n",
    "n=quote.count('before')\n",
    "print(f'before occurs {n} times ')"
   ]
  },
  {
   "cell_type": "code",
   "execution_count": 49,
   "metadata": {},
   "outputs": [
    {
     "data": {
      "text/plain": [
       "5"
      ]
     },
     "execution_count": 49,
     "metadata": {},
     "output_type": "execute_result"
    }
   ],
   "source": [
    "quote.count('o')"
   ]
  },
  {
   "cell_type": "code",
   "execution_count": 51,
   "metadata": {},
   "outputs": [
    {
     "data": {
      "text/plain": [
       "True"
      ]
     },
     "execution_count": 51,
     "metadata": {},
     "output_type": "execute_result"
    }
   ],
   "source": [
    "'Mr Bean'.startswith('Mr')"
   ]
  },
  {
   "cell_type": "code",
   "execution_count": 53,
   "metadata": {},
   "outputs": [
    {
     "name": "stdout",
     "output_type": "stream",
     "text": [
      "Hello sir\n"
     ]
    }
   ],
   "source": [
    "name=input('enter ur name')\n",
    "if name.startswith('Mr'):\n",
    "    print('Hello sir')\n",
    "else:\n",
    "    print('Hello Ma\\'am')"
   ]
  },
  {
   "cell_type": "code",
   "execution_count": 54,
   "metadata": {},
   "outputs": [
    {
     "name": "stdout",
     "output_type": "stream",
     "text": [
      "textfile\n"
     ]
    }
   ],
   "source": [
    "filename=input(\" enter filename\")\n",
    "if filename.endswith('.csv'):\n",
    "    print(\"Data set file\")\n",
    "elif filename.endswith('.jpg'):\n",
    "    print(\"image file\")\n",
    "elif filename.endswith('.txt'):\n",
    "    print(\"textfile\")\n",
    "else:\n",
    "    print(\" No extension provided\")"
   ]
  },
  {
   "cell_type": "code",
   "execution_count": 56,
   "metadata": {},
   "outputs": [
    {
     "name": "stdout",
     "output_type": "stream",
     "text": [
      "    Maid In  Manhattan   \n",
      "Maid In  Manhattan\n",
      "chars in movie name: 25\n",
      "chars in clear movie name: 18\n"
     ]
    }
   ],
   "source": [
    "# strip\n",
    "movie=input(' enter a movie')\n",
    "clean_movie=movie.strip()\n",
    "print(movie)\n",
    "print(clean_movie)\n",
    "print(f'chars in movie name: {len(movie)}')\n",
    "print(f'chars in clear movie name: {len(clean_movie)}')"
   ]
  },
  {
   "cell_type": "code",
   "execution_count": 59,
   "metadata": {},
   "outputs": [
    {
     "name": "stdout",
     "output_type": "stream",
     "text": [
      "Hello\n"
     ]
    }
   ],
   "source": [
    "print('\\n\\nHello\\n\\n'.strip())"
   ]
  },
  {
   "cell_type": "code",
   "execution_count": 7,
   "metadata": {},
   "outputs": [
    {
     "name": "stdout",
     "output_type": "stream",
     "text": [
      "hello\n"
     ]
    }
   ],
   "source": [
    "print(',,,hello***'.strip(',*'))"
   ]
  },
  {
   "cell_type": "code",
   "execution_count": 4,
   "metadata": {},
   "outputs": [
    {
     "name": "stdout",
     "output_type": "stream",
     "text": [
      "!\"#$%&'()*+,-./:;<=>?@[\\]^_`{|}~\n",
      "%p34@y*-*t68h#&on404\n",
      "%p34@y*-*t68h#&on404\n",
      "%p34@y*-*t68h&on404\n",
      "%p34@y*-*t68h&on404\n",
      "p34@y*-*t68h&on404\n",
      "p34@y*-*t68hon404\n",
      "p34@y*-*t68hon404\n",
      "p34@y*-*t68hon404\n",
      "p34@y*-*t68hon404\n",
      "p34@y-t68hon404\n",
      "p34@y-t68hon404\n",
      "p34@y-t68hon404\n",
      "p34@yt68hon404\n",
      "p34@yt68hon404\n",
      "p34@yt68hon404\n",
      "p34@yt68hon404\n",
      "p34@yt68hon404\n",
      "p34@yt68hon404\n",
      "p34@yt68hon404\n",
      "p34@yt68hon404\n",
      "p34@yt68hon404\n",
      "p34yt68hon404\n",
      "p34yt68hon404\n",
      "p34yt68hon404\n",
      "p34yt68hon404\n",
      "p34yt68hon404\n",
      "p34yt68hon404\n",
      "p34yt68hon404\n",
      "p34yt68hon404\n",
      "p34yt68hon404\n",
      "p34yt68hon404\n",
      "p34yt68hon404\n",
      "p34yt68hon44\n",
      "p34yt68hon44\n",
      "p34yt68hon44\n",
      "p4yt68hon44\n",
      "pyt68hon\n",
      "pyt68hon\n",
      "pyt8hon\n",
      "pyt8hon\n",
      "python\n",
      "python\n"
     ]
    }
   ],
   "source": [
    "from string import punctuation,digits\n",
    "print(punctuation)\n",
    "text = '%p34@y!*-*!t68h#&on404'\n",
    "for i in punctuation+digits:\n",
    "    text=text.replace(i,'')\n",
    "    print(text)"
   ]
  },
  {
   "cell_type": "code",
   "execution_count": 6,
   "metadata": {},
   "outputs": [
    {
     "name": "stdout",
     "output_type": "stream",
     "text": [
      "4.636363636363637\n"
     ]
    }
   ],
   "source": [
    "'''calculate the average word length of the following paragraph.\n",
    "this is a paragraph which is written just for the purpose of providing content to let the average word length be calculated\n",
    "'''\n",
    "para='this is a paragraph which is written just for the purpose of providing content to let the average word length be calculated'\n",
    "total=0\n",
    "for word in para.split():\n",
    "    total+=len(word)\n",
    "print(total/len(para.split()))"
   ]
  },
  {
   "cell_type": "code",
   "execution_count": 5,
   "metadata": {},
   "outputs": [],
   "source": [
    "haystack = \"sadbutsad\"\n",
    "needle = \"sad\"\n",
    "haystack.find('z')\n",
    "haystack=list(haystack)\n",
    "hays"
   ]
  }
 ],
 "metadata": {
  "kernelspec": {
   "display_name": "base",
   "language": "python",
   "name": "python3"
  },
  "language_info": {
   "codemirror_mode": {
    "name": "ipython",
    "version": 3
   },
   "file_extension": ".py",
   "mimetype": "text/x-python",
   "name": "python",
   "nbconvert_exporter": "python",
   "pygments_lexer": "ipython3",
   "version": "3.12.3"
  }
 },
 "nbformat": 4,
 "nbformat_minor": 2
}
