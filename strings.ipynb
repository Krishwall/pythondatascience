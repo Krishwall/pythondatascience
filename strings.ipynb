{
 "cells": [
  {
   "cell_type": "markdown",
   "metadata": {},
   "source": [
    "- creating\n",
    "- indexing and slicing\n",
    "- methods\n",
    "- tips and tricks\n",
    "\n"
   ]
  },
  {
   "cell_type": "code",
   "execution_count": 1,
   "metadata": {},
   "outputs": [
    {
     "name": "stdout",
     "output_type": "stream",
     "text": [
      "this is a\n",
      "very useful \n",
      "in multiline m\n",
      "essages\n"
     ]
    }
   ],
   "source": [
    "a='apple'\n",
    "b=\"apple\"\n",
    "c ='''this is a\n",
    "very useful \n",
    "in multiline m\n",
    "essages'''\n",
    "print(c)\n",
    "\n"
   ]
  },
  {
   "cell_type": "code",
   "execution_count": 10,
   "metadata": {},
   "outputs": [
    {
     "name": "stdout",
     "output_type": "stream",
     "text": [
      "apple is a fruit\n",
      "c:\\users\\krish\\desktop\n",
      "hello\n",
      "b'hello'\n"
     ]
    }
   ],
   "source": [
    "# type of strings\n",
    "# f-string\n",
    "x= f'{a} is a fruit'\n",
    "print (x)\n",
    "# raw string\n",
    "addr=r'c:\\users\\krish\\desktop'\n",
    "print(addr)\n",
    "# unicode string\n",
    "uni=u'hello'\n",
    "print(uni)\n",
    "# byte string\n",
    "byt=b'hello'\n",
    "print(byt)\n"
   ]
  },
  {
   "cell_type": "code",
   "execution_count": 12,
   "metadata": {},
   "outputs": [
    {
     "name": "stdout",
     "output_type": "stream",
     "text": [
      "e\n",
      "n\n",
      "c\n",
      "a\n",
      "p\n"
     ]
    }
   ],
   "source": [
    "v='encyclopedia'\n",
    "print(v[0])\n",
    "print(v[1])\n",
    "print(v[2])\n",
    "print(v[11])\n",
    "print(v[-5])\n",
    "\n"
   ]
  }
 ],
 "metadata": {
  "kernelspec": {
   "display_name": "base",
   "language": "python",
   "name": "python3"
  },
  "language_info": {
   "codemirror_mode": {
    "name": "ipython",
    "version": 3
   },
   "file_extension": ".py",
   "mimetype": "text/x-python",
   "name": "python",
   "nbconvert_exporter": "python",
   "pygments_lexer": "ipython3",
   "version": "3.12.3"
  }
 },
 "nbformat": 4,
 "nbformat_minor": 2
}
